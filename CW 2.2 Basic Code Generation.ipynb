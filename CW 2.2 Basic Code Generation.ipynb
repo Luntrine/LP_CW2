{
 "cells": [
  {
   "cell_type": "markdown",
   "id": "64a4419e",
   "metadata": {},
   "source": [
    "# CW2.2:  Basic Compiler Back End for FUNC\n",
    "\n",
    "Based on the AST from part 1, in this coursework you will develop the back-end that should generate MIPS code that can be emulated in the cpulator: \n",
    "https://cpulator.01xz.net/?sys=mipsr5b-spim\n",
    "\n",
    "**CW2.2** is concerned with the implementation of the compiler’s back end *without* function calls.\n",
    "CW 2.3 will be concerned with implementing function calls.\n",
    "\n",
    "You are expected to use the labs slots, as well as private questions to Kathrin & the Lab Helpers throughout the course to work on it. "
   ]
  },
  {
   "cell_type": "markdown",
   "id": "d59f7dae",
   "metadata": {},
   "source": [
    "**IMPORTANT** \n",
    "Compiler errors: All code you submit must compile. Programs that do not compile will receive an automatic zero.\n",
    "- If you are having trouble getting your assignment to compile, please visit consulting hours.\n",
    "- If you run out of time, it is better to comment out the parts that do not compile, than hand in a more complete file that does not compile."
   ]
  },
  {
   "cell_type": "markdown",
   "id": "ba213fe5",
   "metadata": {},
   "source": [
    "## Testing \n",
    "\n",
    "At the end of this file you'll find example program you can test your programs with. \n",
    "**You will want to write additional tests for intermediate steps.**\n",
    "\n",
    "You will want to run your compiled program in an emulator: \n",
    "\n",
    " https://cpulator.01xz.net/?sys=mipsr5b-spim\n",
    "\n",
    "**The plagarism policy does not hold for this part of the coursework. \n",
    "Please feel free to share your tests with other students in the course.**\n",
    "\n",
    "To simplify debugging assembler code, you can insert comments into your assembler code via the ``Verbatim`` constructor, e.g. \n",
    "```\n",
    "[Verbatim \"# Comment: Pushing on the stack.\"] @ push s8\n",
    "```"
   ]
  },
  {
   "cell_type": "markdown",
   "id": "5b58e426",
   "metadata": {},
   "source": [
    "## Submission\n",
    "\n",
    "Please submit this notebook on Canvas until **Thu, 14th March**. \n",
    "Please ensure that you do not change the name or signature of the functions ``compile_exp``, ``compile_program``, etc. \n",
    "\n",
    "**Late Submissions.** See Canvas for F29LP's late-submission policy. \n",
    "\n",
    "**Plagarism.** All code (except tests) is subject to the course's plagarism policy. \n",
    "\n",
    "Happy coding!"
   ]
  },
  {
   "cell_type": "markdown",
   "id": "9b7dc909",
   "metadata": {},
   "source": [
    "## The Target Language \n",
    "\n",
    "We will again use the ``FUNC`` language from CW 2.1, see there for a description. \n",
    "We will start from its abstract representation. \n",
    "\n",
    "The goal is to write a backend that compiles this abstract representation into MIPS code. \n",
    "Like in the lectures, you can test your own code via the following emulator:\n",
    "https://cpulator.01xz.net/?sys=mipsr5b-spim\n",
    "\n",
    "Here are some requirements and assumptions you can make in addition to those already discussed in part 1: \n",
    "- You can assume that there are sufficient registers to hold all variables in a function.\n",
    "- There is no global state.\n",
    "- The code in the ``main()`` function should be executed (using the ``start_:`` label in MIPS). You have to put ``.global _start`` at the beginning of the assembly code to ensure that the assembler finds this label.\n",
    "- In this part, you don't have to implement any functions called from ``main`` but ``plus``, ``minus``, ``times``, and ``divide``. \n",
    "    - The ``main`` function does not have any arguments. \n",
    "    - Use the ``$s0-$s7`` registers to store variables of the ``main()`` function.\n",
    "    - ``main`` never returns a value.\n",
    "- Registers should be allocated in the order variables are introduced, starting with ``$s0``\n",
    "- You can use ``$t8`` and ``$t9`` for intermediate computations as we have done for SIMP.\n",
    "- ``main`` cannot be called by any functions (including ``main``).\n",
    "\n",
    "Further requirements and assumptions are detailed for each relevant part below. "
   ]
  },
  {
   "cell_type": "markdown",
   "id": "44cbc00a",
   "metadata": {},
   "source": [
    "Below you can see an abstract grammar for the language you've seen before."
   ]
  },
  {
   "cell_type": "code",
   "execution_count": 1,
   "id": "21b8c168",
   "metadata": {},
   "outputs": [
    {
     "data": {
      "text/plain": [
       "type exp = Numb of int | Id of string | App of string * exp list\n"
      ]
     },
     "execution_count": 1,
     "metadata": {},
     "output_type": "execute_result"
    },
    {
     "data": {
      "text/plain": [
       "type bop = Less | LessEq | Eq | NEq\n"
      ]
     },
     "execution_count": 1,
     "metadata": {},
     "output_type": "execute_result"
    },
    {
     "data": {
      "text/plain": [
       "type cond = C of bop * exp * exp\n"
      ]
     },
     "execution_count": 1,
     "metadata": {},
     "output_type": "execute_result"
    },
    {
     "data": {
      "text/plain": [
       "type statement =\n",
       "    Assign of string * exp\n",
       "  | Read of string\n",
       "  | Write of exp\n",
       "  | If of cond * statement list\n",
       "  | Ite of cond * statement list * statement list\n",
       "  | While of cond * statement list\n"
      ]
     },
     "execution_count": 1,
     "metadata": {},
     "output_type": "execute_result"
    },
    {
     "data": {
      "text/plain": [
       "type mmethod =\n",
       "    M of string * string list * string list * statement list * string option\n"
      ]
     },
     "execution_count": 1,
     "metadata": {},
     "output_type": "execute_result"
    },
    {
     "data": {
      "text/plain": [
       "type program = P of mmethod list\n"
      ]
     },
     "execution_count": 1,
     "metadata": {},
     "output_type": "execute_result"
    }
   ],
   "source": [
    "type exp = Numb of int | Id of string | App of string * exp list\n",
    "\n",
    "type bop = Less | LessEq | Eq | NEq \n",
    "type cond = C of bop * exp * exp\n",
    "\n",
    "type statement =\n",
    "  Assign of string * exp\n",
    "| Read of string \n",
    "| Write of exp \n",
    "| If of cond * statement list\n",
    "| Ite of cond * statement list * statement list\n",
    "| While of cond * statement list\n",
    "\n",
    "type mmethod = M of string (* name of function *)\n",
    "                * string list (* arguments *)\n",
    "                * string list (* declarations *) \n",
    "                * statement list (* function body *)\n",
    "                * string option (* possible return value value *)\n",
    "\n",
    "type program = P of mmethod list"
   ]
  },
  {
   "cell_type": "markdown",
   "id": "3cba9a57",
   "metadata": {},
   "source": [
    "## Basic Solution (10 Marks) \n",
    "The basic solution has to support compiling the ``main()`` function with all features except function calls. \n",
    "You should still support the built-in functions ``plus``, ``minus``, ``times``, and ``divide``.\n",
    "\n",
    "You can find an example compiled program at the bottom of this assignment."
   ]
  },
  {
   "cell_type": "markdown",
   "id": "bbb0e1d5",
   "metadata": {},
   "source": [
    "## Definitions\n",
    "\n",
    "The following are the same definitions as seen for SIMP."
   ]
  },
  {
   "cell_type": "code",
   "execution_count": 2,
   "id": "38d95d11",
   "metadata": {},
   "outputs": [
    {
     "data": {
      "text/plain": [
       "type register = int\n"
      ]
     },
     "execution_count": 2,
     "metadata": {},
     "output_type": "execute_result"
    },
    {
     "data": {
      "text/plain": [
       "val v0 : register = 2\n"
      ]
     },
     "execution_count": 2,
     "metadata": {},
     "output_type": "execute_result"
    },
    {
     "data": {
      "text/plain": [
       "val v1 : register = 3\n"
      ]
     },
     "execution_count": 2,
     "metadata": {},
     "output_type": "execute_result"
    },
    {
     "data": {
      "text/plain": [
       "val a0 : register = 4\n"
      ]
     },
     "execution_count": 2,
     "metadata": {},
     "output_type": "execute_result"
    },
    {
     "data": {
      "text/plain": [
       "val a1 : register = 5\n"
      ]
     },
     "execution_count": 2,
     "metadata": {},
     "output_type": "execute_result"
    },
    {
     "data": {
      "text/plain": [
       "val a2 : register = 6\n"
      ]
     },
     "execution_count": 2,
     "metadata": {},
     "output_type": "execute_result"
    },
    {
     "data": {
      "text/plain": [
       "val a3 : register = 7\n"
      ]
     },
     "execution_count": 2,
     "metadata": {},
     "output_type": "execute_result"
    },
    {
     "data": {
      "text/plain": [
       "val t0 : register = 8\n"
      ]
     },
     "execution_count": 2,
     "metadata": {},
     "output_type": "execute_result"
    },
    {
     "data": {
      "text/plain": [
       "val t1 : register = 9\n"
      ]
     },
     "execution_count": 2,
     "metadata": {},
     "output_type": "execute_result"
    },
    {
     "data": {
      "text/plain": [
       "val t2 : register = 10\n"
      ]
     },
     "execution_count": 2,
     "metadata": {},
     "output_type": "execute_result"
    },
    {
     "data": {
      "text/plain": [
       "val t3 : register = 11\n"
      ]
     },
     "execution_count": 2,
     "metadata": {},
     "output_type": "execute_result"
    },
    {
     "data": {
      "text/plain": [
       "val t4 : register = 12\n"
      ]
     },
     "execution_count": 2,
     "metadata": {},
     "output_type": "execute_result"
    },
    {
     "data": {
      "text/plain": [
       "val t5 : register = 13\n"
      ]
     },
     "execution_count": 2,
     "metadata": {},
     "output_type": "execute_result"
    },
    {
     "data": {
      "text/plain": [
       "val t6 : register = 14\n"
      ]
     },
     "execution_count": 2,
     "metadata": {},
     "output_type": "execute_result"
    },
    {
     "data": {
      "text/plain": [
       "val t7 : register = 15\n"
      ]
     },
     "execution_count": 2,
     "metadata": {},
     "output_type": "execute_result"
    },
    {
     "data": {
      "text/plain": [
       "val s0 : register = 16\n"
      ]
     },
     "execution_count": 2,
     "metadata": {},
     "output_type": "execute_result"
    },
    {
     "data": {
      "text/plain": [
       "val s1 : register = 17\n"
      ]
     },
     "execution_count": 2,
     "metadata": {},
     "output_type": "execute_result"
    },
    {
     "data": {
      "text/plain": [
       "val s2 : register = 18\n"
      ]
     },
     "execution_count": 2,
     "metadata": {},
     "output_type": "execute_result"
    },
    {
     "data": {
      "text/plain": [
       "val s3 : register = 19\n"
      ]
     },
     "execution_count": 2,
     "metadata": {},
     "output_type": "execute_result"
    },
    {
     "data": {
      "text/plain": [
       "val s4 : register = 20\n"
      ]
     },
     "execution_count": 2,
     "metadata": {},
     "output_type": "execute_result"
    },
    {
     "data": {
      "text/plain": [
       "val s5 : register = 21\n"
      ]
     },
     "execution_count": 2,
     "metadata": {},
     "output_type": "execute_result"
    },
    {
     "data": {
      "text/plain": [
       "val s6 : register = 22\n"
      ]
     },
     "execution_count": 2,
     "metadata": {},
     "output_type": "execute_result"
    },
    {
     "data": {
      "text/plain": [
       "val s7 : register = 23\n"
      ]
     },
     "execution_count": 2,
     "metadata": {},
     "output_type": "execute_result"
    },
    {
     "data": {
      "text/plain": [
       "val t8 : register = 24\n"
      ]
     },
     "execution_count": 2,
     "metadata": {},
     "output_type": "execute_result"
    },
    {
     "data": {
      "text/plain": [
       "val t9 : register = 25\n"
      ]
     },
     "execution_count": 2,
     "metadata": {},
     "output_type": "execute_result"
    },
    {
     "data": {
      "text/plain": [
       "val sp : register = 29\n"
      ]
     },
     "execution_count": 2,
     "metadata": {},
     "output_type": "execute_result"
    },
    {
     "data": {
      "text/plain": [
       "val fp : register = 30\n"
      ]
     },
     "execution_count": 2,
     "metadata": {},
     "output_type": "execute_result"
    },
    {
     "data": {
      "text/plain": [
       "val ra : register = 31\n"
      ]
     },
     "execution_count": 2,
     "metadata": {},
     "output_type": "execute_result"
    },
    {
     "data": {
      "text/plain": [
       "type label = string\n"
      ]
     },
     "execution_count": 2,
     "metadata": {},
     "output_type": "execute_result"
    },
    {
     "data": {
      "text/plain": [
       "type instruction =\n",
       "    Add of register * register * register\n",
       "  | Sub of register * register * register\n",
       "  | Addi of register * register * int\n",
       "  | Addiu of register * register * int\n",
       "  | Mul of register * register * register\n",
       "  | Div of register * register\n",
       "  | And of register * register * register\n",
       "  | Or of register * register * register\n",
       "  | Andi of register * register * int\n",
       "  | Ori of register * register * int\n",
       "  | Lw of register * int * register\n",
       "  | Sw of register * int * register\n",
       "  | La of register * label\n",
       "  | Li of register * int\n",
       "  | Move of register * register\n",
       "  | Mfhi of register\n",
       "  | Mflo of register\n",
       "  | Label of label\n",
       "  | Beq of register * register * string\n",
       "  | Bne of register * register * string\n",
       "  | Bgt of register * register * string\n",
       "  | Blt of register * register * string\n",
       "  | Bge of register * register * string\n",
       "  | Ble of register * register * string\n",
       "  | J of label\n",
       "  | Jr of register\n",
       "  | Jal of label\n",
       "  | SysCall\n",
       "  | Verbatim of string\n"
      ]
     },
     "execution_count": 2,
     "metadata": {},
     "output_type": "execute_result"
    },
    {
     "data": {
      "text/plain": [
       "type code = instruction list\n"
      ]
     },
     "execution_count": 2,
     "metadata": {},
     "output_type": "execute_result"
    },
    {
     "data": {
      "text/plain": [
       "val print_register : register -> string = <fun>\n"
      ]
     },
     "execution_count": 2,
     "metadata": {},
     "output_type": "execute_result"
    },
    {
     "data": {
      "text/plain": [
       "val print_instruction : instruction -> string = <fun>\n"
      ]
     },
     "execution_count": 2,
     "metadata": {},
     "output_type": "execute_result"
    },
    {
     "data": {
      "text/plain": [
       "val print_code : code -> unit = <fun>\n"
      ]
     },
     "execution_count": 2,
     "metadata": {},
     "output_type": "execute_result"
    },
    {
     "data": {
      "text/plain": [
       "exception EEnv of string\n"
      ]
     },
     "execution_count": 2,
     "metadata": {},
     "output_type": "execute_result"
    },
    {
     "data": {
      "text/plain": [
       "val maxreg : int = 23\n"
      ]
     },
     "execution_count": 2,
     "metadata": {},
     "output_type": "execute_result"
    },
    {
     "data": {
      "text/plain": [
       "module Env :\n",
       "  sig\n",
       "    type key = String.t\n",
       "    type 'a t = 'a Map.Make(String).t\n",
       "    val empty : 'a t\n",
       "    val is_empty : 'a t -> bool\n",
       "    val mem : key -> 'a t -> bool\n",
       "    val add : key -> 'a -> 'a t -> 'a t\n",
       "    val update : key -> ('a option -> 'a option) -> 'a t -> 'a t\n",
       "    val singleton : key -> 'a -> 'a t\n",
       "    val remove : key -> 'a t -> 'a t\n",
       "    val merge :\n",
       "      (key -> 'a option -> 'b option -> 'c option) -> 'a t -> 'b t -> 'c t\n",
       "    val union : (key -> 'a -> 'a -> 'a option) -> 'a t -> 'a t -> 'a t\n",
       "    val compare : ('a -> 'a -> int) -> 'a t -> 'a t -> int\n",
       "    val equal : ('a -> 'a -> bool) -> 'a t -> 'a t -> bool\n",
       "    val iter : (key -> 'a -> unit) -> 'a t -> unit\n",
       "    val fold : (key -> 'a -> 'b -> 'b) -> 'a t -> 'b -> 'b\n",
       "    val for_all : (key -> 'a -> bool) -> 'a t -> bool\n",
       "    val exists : (key -> 'a -> bool) -> 'a t -> bool\n",
       "    val filter : (key -> 'a -> bool) -> 'a t -> 'a t\n",
       "    val filter_map : (key -> 'a -> 'b option) -> 'a t -> 'b t\n",
       "    val partition : (key -> 'a -> bool) -> 'a t -> 'a t * 'a t\n",
       "    val cardinal : 'a t -> int\n",
       "    val bindings : 'a t -> (key * 'a) list\n",
       "    val min_binding : 'a t -> key * 'a\n",
       "    val min_binding_opt : 'a t -> (key * 'a) option\n",
       "    val max_binding : 'a t -> key * 'a\n",
       "    val max_binding_opt : 'a t -> (key * 'a) option\n",
       "    val choose : 'a t -> key * 'a\n",
       "    val choose_opt : 'a t -> (key * 'a) option\n",
       "    val split : key -> 'a t -> 'a t * 'a option * 'a t\n",
       "    val find : key -> 'a t -> 'a\n",
       "    val find_opt : key -> 'a t -> 'a option\n",
       "    val find_first : (key -> bool) -> 'a t -> key * 'a\n",
       "    val find_first_opt : (key -> bool) -> 'a t -> (key * 'a) option\n",
       "    val find_last : (key -> bool) -> 'a t -> key * 'a\n",
       "    val find_last_opt : (key -> bool) -> 'a t -> (key * 'a) option\n",
       "    val map : ('a -> 'b) -> 'a t -> 'b t\n",
       "    val mapi : (key -> 'a -> 'b) -> 'a t -> 'b t\n",
       "    val to_seq : 'a t -> (key * 'a) Seq.t\n",
       "    val to_rev_seq : 'a t -> (key * 'a) Seq.t\n",
       "    val to_seq_from : key -> 'a t -> (key * 'a) Seq.t\n",
       "    val add_seq : (key * 'a) Seq.t -> 'a t -> 'a t\n",
       "    val of_seq : (key * 'a) Seq.t -> 'a t\n",
       "  end\n"
      ]
     },
     "execution_count": 2,
     "metadata": {},
     "output_type": "execute_result"
    },
    {
     "data": {
      "text/plain": [
       "val find_max_register : int Env.t -> int = <fun>\n"
      ]
     },
     "execution_count": 2,
     "metadata": {},
     "output_type": "execute_result"
    },
    {
     "data": {
      "text/plain": [
       "val declare_var : int Env.t -> string -> int Env.t = <fun>\n"
      ]
     },
     "execution_count": 2,
     "metadata": {},
     "output_type": "execute_result"
    },
    {
     "data": {
      "text/plain": [
       "exception E of string\n"
      ]
     },
     "execution_count": 2,
     "metadata": {},
     "output_type": "execute_result"
    },
    {
     "data": {
      "text/plain": [
       "val push : register -> code = <fun>\n"
      ]
     },
     "execution_count": 2,
     "metadata": {},
     "output_type": "execute_result"
    },
    {
     "data": {
      "text/plain": [
       "val pop : register -> code = <fun>\n"
      ]
     },
     "execution_count": 2,
     "metadata": {},
     "output_type": "execute_result"
    },
    {
     "data": {
      "text/plain": [
       "val counter : int ref = {contents = 0}\n"
      ]
     },
     "execution_count": 2,
     "metadata": {},
     "output_type": "execute_result"
    },
    {
     "data": {
      "text/plain": [
       "val next_val : unit -> int = <fun>\n"
      ]
     },
     "execution_count": 2,
     "metadata": {},
     "output_type": "execute_result"
    }
   ],
   "source": [
    "(* We represent registers as numbers. Registers are represented by 0 to 31. *)\n",
    "type register = int\n",
    "\n",
    "(* Value returned by a subroutine *)\n",
    "let v0 : register = 2 \n",
    "let v1 : register = 3 \n",
    "\n",
    "(* Arguments to subroutine *)\n",
    "let a0 : register = 4 \n",
    "let a1 : register = 5\n",
    "let a2 : register = 6\n",
    "let a3 : register = 7\n",
    "\n",
    "(* Temporary registers *)\n",
    "let t0 : register = 8\n",
    "let t1 : register = 9\n",
    "let t2 : register = 10\n",
    "let t3 : register = 11\n",
    "let t4 : register = 12\n",
    "let t5 : register = 13\n",
    "let t6 : register = 14\n",
    "let t7 : register = 15\n",
    "\n",
    "(* Saved registers *)\n",
    "let s0 : register = 16\n",
    "let s1 : register = 17 \n",
    "let s2 : register = 18 \n",
    "let s3 : register = 19 \n",
    "let s4 : register = 20 \n",
    "let s5 : register = 21\n",
    "let s6 : register = 22 \n",
    "let s7 : register = 23 \n",
    "\n",
    "(* Temporary registers $t8 and $t9 will be used for intermediate results. *)\n",
    "let t8 : register = 24 (* $t8 *)\n",
    "let t9 : register = 25 (* $t9 *)\n",
    "\n",
    "let (sp : register) = 29 (* stack pointer *)\n",
    "let (fp : register) = 30 (* frame pointer *)\n",
    "let (ra : register) = 31 (* return address *)\n",
    "\n",
    "(* We represent instructions as an abstract data type. *)\n",
    "\n",
    "type label = string\n",
    "\n",
    "type instruction =  Add of register * register * register (* add $1, $2, $3 - $1 = $2 + $3 *)\n",
    "                   | Sub of register * register * register (* sub $1, $2, $3; $1 = $2 - $3 *)\n",
    "                   | Addi of register * register * int (* addi $1, $2, 100 - $1 = $2 + 100, immediate means a constant number  *)\n",
    "                   | Addiu of register * register * int (* addi $1, $2, 100 - $1 = $2 + 100, values treated as unsigned, immediate means a constant number  *)\n",
    "                   | Mul of register * register * register (* mul $1, $2, $3 - $1 = $2 * $3, without overflow, result is only 32 bits *)\n",
    "                   | Div of register * register (* div $2, $3 - $hi,$low=$2/$3, Remainder stored in special register hi, Quotient stored in special register lo   *)\n",
    "                   | And of register * register * register (* and $1, $2, $3 - $1 = $2 & $3, bitwise AND *)\n",
    "                   | Or of register * register * register (* or $1, $2, $3 - $1 = $2 | 100, bitwise OR *)\n",
    "                   | Andi of register * register * int (* andi $1, $2, 100 - $1 = $2 & 100, bitwise AND with immediate value  *)\n",
    "                   | Ori of register * register * int (* ori $1, $2, 100 - $1 = $2 | 100, bitwise OR with immediate value  *)\n",
    "                   | Lw of register * int * register (* lw $1, 100 ($2) - load word, $1 = Memory[$2 + 100], copy from memory to register *)\n",
    "                   | Sw of register * int * register (* sw $1, 100 ($2) - store word, Memory[$2 + 100] = $1, copy from register to memory *)\n",
    "                   | La of register * label (* $1 = Address of label *) \n",
    "                   | Li of register * int (* li $1, 100 - Loads immediate value into register *)\n",
    "                   | Move of register * register (* move $1,$2 - $1 = $2, Copy from register to register *)\n",
    "                   | Mfhi of register (* mfhi $2, $2 = hi, copy from special register hi to general register *)\n",
    "                   | Mflo of register (* mflo $2, $2 = lo, copy from special register lo to general register *)\n",
    "                   | Label of label \n",
    "                   | Beq of register * register * string (* beq $1, $2, l - if ($1 == $2) go to label l *)\n",
    "                   | Bne of register * register * string (* bne $1, $2, l - if ($1 != $2) go to label l *)\n",
    "                   | Bgt of register * register * string (* bgt $1, $2, l - if ($1 > $2) go to label l *)\n",
    "                   | Blt of register * register * string (* blt $1, $2, l - if ($1 < $2) go to label l *)\n",
    "                   | Bge of register * register * string (* bge $1, $2, l - if ($1 >= $2) go to label l *)\n",
    "                   | Ble of register * register * string (* ble $1, $2, l - if ($1 <= $2) go to label l *)                  \n",
    "                   | J of label (* j l, go to label l, jumps to target address *)\n",
    "                   | Jr of register (* jump register, jr $1, go to address stored in $1 *)\n",
    "                   | Jal of label (* jump and link, e.g. jal l - $ra=PC+4; go to label l - used when making procedure call. This saves the return address in $ra.  *)\n",
    "                   | SysCall \n",
    "                   | Verbatim of string (* Produce the given string verbatim in the assembly output *)\n",
    "                   \n",
    "type code = instruction list\n",
    "\n",
    "let print_register (r : register) = \n",
    "    match r with \n",
    "    | 2 | 3 -> \"$v\" ^ (string_of_int (r - v0)) \n",
    "    | 4 |5 |6 | 7 -> \"$a\" ^ string_of_int (r - a0)\n",
    "    | 8|9|10|11|12|13|14|15 -> \"$t\" ^ string_of_int (r - t0) \n",
    "    | 16|17|18|19|20|21|22|23 -> \"$s\" ^ string_of_int (r - s0)\n",
    "    | 24 -> \"$t8\"\n",
    "    | 25 -> \"$t9\"\n",
    "    | 29 -> \"$sp\"\n",
    "    | 30 -> \"$fp\"\n",
    "    | 31 -> \"$ra\"\n",
    "    | _ -> \"$\" ^ string_of_int r\n",
    "\n",
    "let print_instruction (i : instruction) = match i with \n",
    "    | Add (r1, r2, r3) -> \"add \" ^ print_register r1 ^ \", \" ^ print_register r2 ^ \", \" ^ print_register r3\n",
    "    | Sub (r1, r2, r3) -> \"sub \" ^ print_register r1 ^ \", \" ^ print_register r2 ^ \", \" ^ print_register r3\n",
    "    | Addi (r1, r2, i) -> \"addi \" ^ print_register r1 ^ \", \" ^ print_register r2 ^ \", \" ^ string_of_int i\n",
    "    | Addiu (r1, r2, i) -> \"addiu \" ^ print_register r1 ^ \", \" ^ print_register r2 ^ \", \" ^ string_of_int i\n",
    "    | Mul (r1, r2, r3) -> \"mul \" ^ print_register r1 ^ \", \" ^ print_register r2 ^ \", \" ^ print_register r3\n",
    "    | Div (r1, r2) -> \"div \" ^ print_register r1 ^ \", \" ^ print_register r2\n",
    "    | Beq (r1, r2, l) ->  \"beq \" ^ print_register r1 ^ \", \" ^ print_register r2 ^ \", \" ^ l\n",
    "    | Bne (r1, r2, l) ->  \"bne \" ^ print_register r1 ^ \", \" ^ print_register r2 ^ \", \" ^ l\n",
    "    | Bgt (r1, r2, l) ->  \"bgt \" ^ print_register r1 ^ \", \" ^ print_register r2 ^ \", \" ^ l\n",
    "    | Blt (r1, r2, l) ->  \"blt \" ^ print_register r1 ^ \", \" ^ print_register r2 ^ \", \" ^ l\n",
    "    | Bge (r1, r2, l) ->  \"bge \" ^ print_register r1 ^ \", \" ^ print_register r2 ^ \", \" ^ l\n",
    "    | Ble (r1, r2, l) ->  \"ble \" ^ print_register r1 ^ \", \" ^ print_register r2 ^ \", \" ^ l\n",
    "    | Li (r, i) -> \"li \" ^ print_register r ^ \", \" ^ string_of_int i\n",
    "    | Lw (r1, o, r2) -> \"lw \" ^ print_register r1 ^ \", \" ^ string_of_int o ^ \"(\" ^ print_register r2 ^ \")\" \n",
    "    | La (r, l) -> \"la \" ^ print_register r ^ \", \" ^  l\n",
    "    | Sw (r1, o, r2) -> \"sw \" ^ print_register r1 ^ \", \" ^ string_of_int o ^ \"(\" ^ print_register r2 ^ \")\" \n",
    "    | Move (r1, r2) -> \"move \" ^ print_register r1 ^ \", \" ^ print_register r2\n",
    "    | Mfhi r -> \"mfhi \"^ print_register r\n",
    "    | Mflo r -> \"mflo \"^ print_register r\n",
    "    | And (r1, r2, r3) -> \"and \" ^ print_register r1 ^ \", \" ^ print_register r2 ^ \", \" ^ print_register r3\n",
    "    | Andi (r1, r2, r3) -> \"andi \" ^ print_register r1 ^ \", \" ^ print_register r2 ^ \", \" ^ print_register r3\n",
    "    | Or (r1, r2, r3) -> \"or \" ^ print_register r1 ^ \", \" ^ print_register r2 ^ \", \" ^ print_register r3\n",
    "    | Ori (r1, r2, r3) -> \"ori \" ^ print_register r1 ^ \", \" ^ print_register r2 ^ \", \" ^ print_register r3\n",
    "    | SysCall -> \"syscall\"\n",
    "    | Label l -> l ^ \":\"\n",
    "    | J label -> \"j \" ^ label \n",
    "    | Jr r -> \"jr \" ^ print_register r\n",
    "    | Jal label -> \"jal \" ^ label\n",
    "    | Verbatim s -> s\n",
    "   \n",
    "let rec print_code (c : code) : unit = match c with \n",
    "    | [] -> ()\n",
    "    | c :: cs -> (print_endline (print_instruction c); print_code cs)\n",
    "    \n",
    "exception EEnv of string\n",
    "\n",
    "let maxreg = 23\n",
    "\n",
    "module Env = Map.Make (String)\n",
    "\n",
    "(*  Function that finds the largest register in the environment. *)\n",
    "let find_max_register (env : int Env.t) = \n",
    "    Env.fold (fun _ a b -> max a b) env (s0 - 1) \n",
    "\n",
    "\n",
    "(* Declaring a variable: \n",
    "  - When trying to declare a variable, and there are too many registers already \n",
    "    reserved, throw an exception. \n",
    "  - Else: Assign to variable x the largest register number + 1.\n",
    "*)\n",
    "let declare_var (env: int Env.t) (x:string) : int Env.t = \n",
    "    if (find_max_register env) >= maxreg\n",
    "     then raise (EEnv \"Too many variables\")\n",
    "     else Env.add x (1 + find_max_register env) env\n",
    "     \n",
    "exception E of string\n",
    "\n",
    "(* Pushing the content of register r to the stack *)\n",
    "let push (r : register) : code = [Addiu (sp, sp, -4);\n",
    "                                  Sw (r, 0, sp)]\n",
    "\n",
    "(* Popping the stack into register r *)\n",
    "let pop (r : register) : code = [Lw (r, 0, sp);\n",
    "                                 Addiu (sp, sp, 4)]\n",
    "                                 \n",
    "                                 \n",
    "let counter : int ref = {contents = 0}\n",
    "\n",
    "let next_val = \n",
    "    fun () ->\n",
    "      counter := (!counter) + 1;\n",
    "      !counter;;                                 "
   ]
  },
  {
   "cell_type": "markdown",
   "id": "2786650f",
   "metadata": {},
   "source": [
    "## Your Code\n",
    "\n",
    "Fill out the gaps below."
   ]
  },
  {
   "cell_type": "code",
   "execution_count": 3,
   "id": "37ea8faa",
   "metadata": {},
   "outputs": [
    {
     "data": {
      "text/plain": [
       "val compile_exp : register Env.t -> register -> exp -> code = <fun>\n"
      ]
     },
     "execution_count": 3,
     "metadata": {},
     "output_type": "execute_result"
    }
   ],
   "source": [
    "(* Compiling code that saves the value of an expression e into register r. \n",
    "   The solution this week can ignore the case e = App (f, es) except for \n",
    "   f = \"plus\", f = \"minus\", f = \"times\", and f = \"divide\".\n",
    "   \n",
    "   The basic function calls solution can ignore nested and recursive calls.\n",
    "*)\n",
    "\n",
    "let rec compile_exp env (r : register) (e : exp) : code = match e with \n",
    "    | Id s -> [Move (r, Env.find s env)]\n",
    "    | Numb n -> [Li (r, n)]\n",
    "    | App (\"plus\", e1 :: e2 :: []) -> compile_exp env t8 e1\n",
    "                                        @ push t8\n",
    "                                        @ compile_exp env t9 e2\n",
    "                                        @ pop t8\n",
    "                                        @ [Add (r, t8, t9)]\n",
    "    | App (\"minus\", e1 :: e2 :: []) -> compile_exp env t8 e1\n",
    "                                        @ push t8\n",
    "                                        @ compile_exp env t9 e2\n",
    "                                        @ pop t8\n",
    "                                        @ [Sub (r, t8, t9)]\n",
    "    | App (\"times\", e1 :: e2 :: []) -> compile_exp env t8 e1\n",
    "                                        @ push t8\n",
    "                                        @ compile_exp env t9 e2\n",
    "                                        @ pop t8\n",
    "                                        @ [Mul (r, t8, t9)] \n",
    "    | App (\"divide\", e1 :: e2 :: []) -> compile_exp env t8 e1\n",
    "                                        @ push t9\n",
    "                                        @ compile_exp env t9 e2\n",
    "                                        @ pop t8\n",
    "                                        @ [Div (t8, t9); Mflo r]\n",
    "    | App (s, es) -> raise (E \"Not implemented in this part of the coursework.\")"
   ]
  },
  {
   "cell_type": "code",
   "execution_count": 4,
   "id": "772ce017",
   "metadata": {},
   "outputs": [
    {
     "data": {
      "text/plain": [
       "val compile_branch : bop -> register -> register -> string -> instruction =\n",
       "  <fun>\n"
      ]
     },
     "execution_count": 4,
     "metadata": {},
     "output_type": "execute_result"
    },
    {
     "data": {
      "text/plain": [
       "val compile_cond :\n",
       "  register Env.t -> bop -> exp -> exp -> string -> instruction list = <fun>\n"
      ]
     },
     "execution_count": 4,
     "metadata": {},
     "output_type": "execute_result"
    },
    {
     "data": {
      "text/plain": [
       "val compile_cmd : register Env.t -> statement -> code = <fun>\n",
       "val compile_cmds : register Env.t -> statement list -> code = <fun>\n"
      ]
     },
     "execution_count": 4,
     "metadata": {},
     "output_type": "execute_result"
    }
   ],
   "source": [
    "(* Generate code for a single command. *)\n",
    "\n",
    "let compile_branch o r1 r2 label = match o with\n",
    "| Less -> Bge (r1, r2, label)\n",
    "| LessEq -> Bgt (r1, r2, label)\n",
    "| Eq -> Bne (r1, r2, label)\n",
    "| NEq -> Beq (r1, r2, label)\n",
    "\n",
    "let compile_cond env o e1 e2 label = compile_exp env t8 e1\n",
    "                                     @ push t8\n",
    "                                     @ compile_exp env t9 e2\n",
    "                                     @ pop t8\n",
    "                                     @ [compile_branch o t8 t9 label]\n",
    "\n",
    "let rec compile_cmd env (c : statement) : code = match c with \n",
    "    | Assign (s, e) -> compile_exp env (Env.find s env) e\n",
    "    | Write e -> compile_exp env a0 e\n",
    "                 @ [Li (v0, 1); SysCall]\n",
    "    | Read s -> [Li (v0, 4);\n",
    "                La (a0, \"sinp\");\n",
    "                SysCall;\n",
    "                Li (v0, 5);\n",
    "                SysCall;\n",
    "                Move (Env.find s env , v0)]\n",
    "    | If (e, s) -> (let label = \"IFEND\" ^ string_of_int (next_val ()) in\n",
    "                    match e with\n",
    "                    | C (o, e1, e2) -> compile_exp env t8 e1\n",
    "                                         @ push t8\n",
    "                                         @ compile_exp env t9 e2\n",
    "                                         @ pop t8\n",
    "                                         @ [compile_branch o t8 t9 label]\n",
    "                                         @ compile_cmds env s\n",
    "                                         @ [Label label])\n",
    "    | Ite (e, s1, s2) -> (let counter = string_of_int (next_val ()) in\n",
    "                          let label_end = \"IFEND\" ^ counter in\n",
    "                          let label_false = \"IFFALSE\" ^ counter in\n",
    "                          match e with\n",
    "                          | C (o, e1, e2) -> compile_cond env o e1 e2 label_false\n",
    "                                               @ compile_cmds env s1\n",
    "                                               @ [J label_end]\n",
    "                                               @ [Label label_false]\n",
    "                                               @ compile_cmds env s2\n",
    "                                               @ [Label label_end])\n",
    "    | While (e, s) -> ( let counter = string_of_int (next_val ()) in\n",
    "                        let label_loop = \"WLOOP\" ^ counter in\n",
    "                        let label_end = \"WEND\" ^ counter in\n",
    "                        match e with\n",
    "                        | C (o, e1, e2) -> [Label label_loop]\n",
    "                                            @ compile_cond env o e1 e2 label_end\n",
    "                                            @ compile_cmds env s\n",
    "                                            @ [J label_loop]\n",
    "                                            @ [Label label_end])\n",
    "      \n",
    "(* Generate code for a list of commands. *)\n",
    "and compile_cmds env (cs : statement list) : code = match cs with\n",
    "    | [] -> []\n",
    "    | c :: cs' -> compile_cmd env c \n",
    "                @ compile_cmds env cs'"
   ]
  },
  {
   "cell_type": "code",
   "execution_count": 5,
   "id": "14d8fb96",
   "metadata": {},
   "outputs": [
    {
     "data": {
      "text/plain": [
       "val compile_dcls : int Env.t -> string -> string list -> int Env.t = <fun>\n"
      ]
     },
     "execution_count": 5,
     "metadata": {},
     "output_type": "execute_result"
    },
    {
     "data": {
      "text/plain": [
       "val compile_method : mmethod -> code = <fun>\n"
      ]
     },
     "execution_count": 5,
     "metadata": {},
     "output_type": "execute_result"
    },
    {
     "data": {
      "text/plain": [
       "val compile_methods : mmethod list -> code = <fun>\n"
      ]
     },
     "execution_count": 5,
     "metadata": {},
     "output_type": "execute_result"
    },
    {
     "data": {
      "text/plain": [
       "val compile_program : program -> instruction list = <fun>\n"
      ]
     },
     "execution_count": 5,
     "metadata": {},
     "output_type": "execute_result"
    }
   ],
   "source": [
    "let rec compile_dcls env (f : string) dcls = match dcls with \n",
    "    | [] -> env \n",
    "    | dcl :: dcls' -> let env' = declare_var env dcl \n",
    "                      in compile_dcls env' f dcls'\n",
    "\n",
    "(* Generate code for a method. *)\n",
    "let rec compile_method (m : mmethod) : code = match m with \n",
    " | M (\"main\", [], dcls, stms, None) -> compile_cmds (compile_dcls Env.empty \"main\" dcls) stms\n",
    " | M (name, args, dcls, stms, ret) -> raise (E \"Not implemented in this part of the coursework.\")\n",
    "\n",
    "(* Generate code for a list of methods. *)\n",
    "let rec compile_methods (ms : mmethod list) : code = match ms with \n",
    "    | [] -> []\n",
    "    | m :: ms' -> compile_method m \n",
    "                @ compile_methods ms'\n",
    "\n",
    "(* Generate code for a whole program. *)\n",
    "let compile_program (p : program) = match p with \n",
    "    | P ms ->  [Verbatim \".global _start\";\n",
    "                Verbatim \".set noreorder\"; \n",
    "                Verbatim \".data\";\n",
    "                Verbatim \"sinp:\";\n",
    "                Verbatim \".asciiz \\\"INPUT>\\\"\";\n",
    "                Verbatim \".text\"; \n",
    "                Label \"_start\"] \n",
    "                @ (compile_methods ms) \n",
    "                @ [Li (v0, 10); SysCall;]"
   ]
  },
  {
   "cell_type": "markdown",
   "id": "cfbdebf4",
   "metadata": {},
   "source": [
    "## Example Program\n",
    "\n",
    "Below you can find an example program, both example output and as AST."
   ]
  },
  {
   "cell_type": "markdown",
   "id": "3e078e97",
   "metadata": {},
   "source": [
    "### Basic Solution \n",
    "\n",
    "The following code should be supported in the basic solution:\n",
    "```\n",
    "method main() vars inp, res\n",
    "begin\n",
    "    read inp;\n",
    "    res:=0;\n",
    "    while less(0,inp)\n",
    "    begin\n",
    "        res := plus(res,inp);\n",
    "        inp := minus(inp,1); ",
    "\n",
    "    endwhile;\n",
    "    write res;\n",
    "endmethod;\n",
    "```\n",
    "\n",
    "The following MIPS code is a possible solution: \n",
    "\n",
    "```\n",
    ".global _start\n",
    ".set noreorder\n",
    ".data\n",
    "sinp:\n",
    ".asciiz \"INPUT>\"  \n",
    ".text\n",
    "_start:\n",
    "li $v0, 4\n",
    "addiu $sp, $sp, -4\n",
    "sw $a0, 0($sp)\n",
    "la $a0, sinp\n",
    "syscall\n",
    "li $v0, 5\n",
    "syscall\n",
    "move $s0, $v0\n",
    "lw $a0, 0($sp)\n",
    "addiu $sp, $sp, 4\n",
    "li $s1, 0\n",
    "WLOOP4:\n",
    "li $t8, 0\n",
    "addiu $sp, $sp, -4\n",
    "sw $t8, 0($sp)\n",
    "move $t9, $s0\n",
    "lw $t8, 0($sp)\n",
    "addiu $sp, $sp, 4\n",
    "bge $t8, $t9, WEND4\n",
    "move $t8, $s1\n",
    "addiu $sp, $sp, -4\n",
    "sw $t8, 0($sp)\n",
    "move $t9, $s0\n",
    "lw $t8, 0($sp)\n",
    "addiu $sp, $sp, 4\n",
    "add $s1, $t8, $t9\n",
    "move $t8, $s0\n",
    "addiu $sp, $sp, -4\n",
    "sw $t8, 0($sp)\n",
    "li $t9, 1\n",
    "lw $t8, 0($sp)\n",
    "addiu $sp, $sp, 4\n",
    "sub $s0, $t8, $t9\n",
    "j WLOOP4\n",
    "WEND4:\n",
    "li $v0, 1\n",
    "addiu $sp, $sp, -4\n",
    "sw $a0, 0($sp)\n",
    "move $a0, $s1\n",
    "syscall\n",
    "lw $a0, 0($sp)\n",
    "addiu $sp, $sp, 4\n",
    "li $v0, 10\n",
    "syscall\n",
    "```\n",
    "\n",
    "It should sum up all numbers from 0 to the given number. For example, if it reads ``3`` then it should print ``6`` (computing ``3+2+1``). Note that your solution does not have to be identical as long as the program produces the same answer and satisfies the specification in this document. "
   ]
  },
  {
   "cell_type": "code",
   "execution_count": 6,
   "id": "8e132fee",
   "metadata": {},
   "outputs": [
    {
     "data": {
      "text/plain": [
       "val parsed_basic : program =\n",
       "  P\n",
       "   [M (\"main\", [], [\"inp\"; \"res\"],\n",
       "     [Read \"inp\"; Assign (\"res\", Numb 0);\n",
       "      While (C (Less, Numb 0, Id \"inp\"),\n",
       "       [Assign (\"res\", App (\"plus\", [Id \"res\"; Id \"inp\"]));\n",
       "        Assign (\"inp\", App (\"minus\", [Id \"inp\"; Numb 1]))]);\n",
       "      Write (Id \"res\")],\n",
       "     None)]\n"
      ]
     },
     "execution_count": 6,
     "metadata": {},
     "output_type": "execute_result"
    },
    {
     "name": "stdout",
     "output_type": "stream",
     "text": [
      ".global _start\n",
      ".set noreorder\n",
      ".data\n",
      "sinp:\n",
      ".asciiz \"INPUT>\"\n",
      ".text\n",
      "_start:\n",
      "li $v0, 4\n",
      "la $a0, sinp\n",
      "syscall\n",
      "li $v0, 5\n",
      "syscall\n",
      "move $s0, $v0\n",
      "li $s1, 0\n",
      "WLOOP1:\n",
      "li $t8, 0\n",
      "addiu $sp, $sp, -4\n",
      "sw $t8, 0($sp)\n",
      "move $t9, $s0\n",
      "lw $t8, 0($sp)\n",
      "addiu $sp, $sp, 4\n",
      "bge $t8, $t9, WEND1\n",
      "move $t8, $s1\n",
      "addiu $sp, $sp, -4\n",
      "sw $t8, 0($sp)\n",
      "move $t9, $s0\n",
      "lw $t8, 0($sp)\n",
      "addiu $sp, $sp, 4\n",
      "add $s1, $t8, $t9\n",
      "move $t8, $s0\n",
      "addiu $sp, $sp, -4\n",
      "sw $t8, 0($sp)\n",
      "li $t9, 1\n",
      "lw $t8, 0($sp)\n",
      "addiu $sp, $sp, 4\n",
      "sub $s0, $t8, $t9\n",
      "j WLOOP1\n",
      "WEND1:\n",
      "move $a0, $s1\n",
      "li $v0, 1\n",
      "syscall\n",
      "li $v0, 10\n",
      "syscall\n"
     ]
    },
    {
     "data": {
      "text/plain": [
       "- : unit = ()\n"
      ]
     },
     "execution_count": 6,
     "metadata": {},
     "output_type": "execute_result"
    }
   ],
   "source": [
    "let parsed_basic = \n",
    "  P\n",
    "    [M (\"main\", [], [\"inp\"; \"res\"],\n",
    "      [Read \"inp\"; Assign (\"res\", Numb 0);\n",
    "       While (C (Less, Numb 0, Id \"inp\"),\n",
    "        [Assign (\"res\", App (\"plus\", [Id \"res\"; Id \"inp\"]));\n",
    "         Assign (\"inp\", App (\"minus\", [Id \"inp\"; Numb 1]))]);\n",
    "       Write (Id \"res\")],\n",
    "      None)];;\n",
    "\n",
    "print_code (compile_program parsed_basic)"
   ]
  },
  {
   "cell_type": "code",
   "execution_count": null,
   "id": "cd82ff3a",
   "metadata": {},
   "outputs": [],
   "source": []
  }
 ],
 "metadata": {
  "kernelspec": {
   "display_name": "OCaml default",
   "language": "OCaml",
   "name": "ocaml-jupyter"
  },
  "language_info": {
   "codemirror_mode": "text/x-ocaml",
   "file_extension": ".ml",
   "mimetype": "text/x-ocaml",
   "name": "OCaml",
   "nbconverter_exporter": null,
   "pygments_lexer": "OCaml",
   "version": "4.14.1"
  }
 },
 "nbformat": 4,
 "nbformat_minor": 5
}
