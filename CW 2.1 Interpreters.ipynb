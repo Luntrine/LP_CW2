{
 "cells": [
  {
   "cell_type": "markdown",
   "id": "64a4419e",
   "metadata": {},
   "source": [
    "# CW2.1:  Interpreter for FUNC\n",
    "\n",
    "Your overall task is to develop a full interpreter and compiler for the programming language given below, called ``FUNC``.\n",
    "This overall task is composed of five parts: Writing an interpreter, basic code generation, advanced code generation, a lexer, and a parser.\n"
   ]
  },
  {
   "cell_type": "markdown",
   "id": "ef45ea05",
   "metadata": {},
   "source": [
    "**CW 2 Part I** consists of two parts: \n",
    "- Writing an interpreter for the parts not requiring functions (6 points)\n",
    "- Writing an interpreter for the parts requiring functions  (4 points)\n",
    "\n",
    "If you have any questions, use the labs slots or ask Kathrin & the Lab Helpers."
   ]
  },
  {
   "cell_type": "markdown",
   "id": "d59f7dae",
   "metadata": {},
   "source": [
    "**IMPORTANT** \n",
    "Compiler errors: All code you submit must compile. Programs that do not compile will receive an automatic zero.\n",
    "- If you are having trouble getting your assignment to compile, please visit consulting hours.\n",
    "- If you run out of time, it is better to comment out the parts that do not compile, than hand in a more complete file that does not compile."
   ]
  },
  {
   "cell_type": "markdown",
   "id": "c050032c",
   "metadata": {},
   "source": [
    "## Testing \n",
    "\n",
    "At the end of this file you'll find example program you can test your programs with. \n",
    "**You will want to write additional tests for intermediate steps.**\n",
    "\n",
    "You can easily write tests to ensure that your program behaves as expected as follows:"
   ]
  },
  {
   "cell_type": "code",
   "execution_count": 1,
   "id": "89e795f8",
   "metadata": {},
   "outputs": [
    {
     "data": {
      "text/plain": [
       "- : unit = ()\n"
      ]
     },
     "execution_count": 1,
     "metadata": {},
     "output_type": "execute_result"
    }
   ],
   "source": [
    "assert ([2;3;5;5;2;1] (* Expected result *) \n",
    "= [2;3;5] @ [5;2;1] (* Calling your function *) ) ;; "
   ]
  },
  {
   "cell_type": "markdown",
   "id": "22b504b2",
   "metadata": {},
   "source": [
    "**The plagarism policy does not hold for this part of the coursework. \n",
    "Please feel free to share your tests with other students in the course.**"
   ]
  },
  {
   "cell_type": "markdown",
   "id": "cf5fedd2",
   "metadata": {},
   "source": [
    "## Submission\n",
    "\n",
    "Please submit a .zip file containing this notebook on Canvas until **Thu, 7th March**. \n",
    "Please ensure that you do not change the name or signature of the functions ``eval_exp``, ``eval_program``, etc. \n",
    "\n",
    "**Late Submissions.** See Canvas for F29LP's late-submission policy. \n",
    "\n",
    "**Plagarism.** All code (except tests) is subject to the course's plagarism policy. \n",
    "\n",
    "Happy coding!"
   ]
  },
  {
   "cell_type": "markdown",
   "id": "9b7dc909",
   "metadata": {},
   "source": [
    "## The Source Language: FUNC\n",
    "\n",
    "The ``FUNC`` language has the following syntax: \n",
    "\n",
    "```\n",
    "<program> ::= <methods> ",
    "\n",
    "<methods> ::= <method>;[<methods>] ",
    "\n",
    "<method> ::= method <id>([<args>]) [vars <args>] \n",
    "\tbegin <statements> [return <id>;] endmethod\n",
    "<args> ::= <id>[,<args>] \n",
    "<statements> ::= <statement>;[<statements>] ",
    "\n",
    "<statement> ::= <assign> | <if> | <while> | <rw>\n",
    "<rw> ::= read <id> | write <exp>\n",
    "<assign> ::= <id> := <exp>\n",
    "<if> ::= if  <cond> then <statements> [else <statements>] endif ",
    "\n",
    "<while> ::= while <cond> begin <statements> endwhile\n",
    "<cond> ::= <bop> ( [<exps>] ) ",
    "\n",
    "<bop> ::= less | lessEq | eq | nEq ",
    "\n",
    "<exps> ::= <exp> [,<exps>] ",
    "\n",
    "<exp> ::= <id>[( [<exps>] )] | <int> ",
    "\n",
    "<int> is a natural number (no leading zeroes) ",
    "\n",
    "<id> is any string starting with a character followed by characters or numbers (that is not already a keyword)\n",
    "```\n",
    "\n",
    "- Each program must have a function called ``main`` with no arguments and no return value. \n",
    "- All other functions may have an optional return value. If a function does not have a return value, they implicitly return `0`.\n",
    "- You should support the following built-in functions - assume they have been defined; they accept two integers and return an integer:\n",
    "     - ``plus``, which adds its arguments;\n",
    "     - ``times``, which multiplies its arguments;\n",
    "     - ``minus``, which subtracts its arguments;\n",
    "     - ``divide``, which divides its arguments.\n",
    "- All the boolean operators (``less``, ``lessEq``, ``eq``, ``nEq``) are also binary, i.e. take two arguments.\n",
    "- The ``read`` command assumes that the given variable is an ``int`` variable.\n",
    "\n",
    "##### Example \n",
    "\n",
    "The following example illustrates a valid FUNC program (more examples later in the document)\n",
    "\n",
    "```\n",
    "method pow(x, y) vars i, res\n",
    "begin\n",
    "    res := x; ",
    "\n",
    "    i := 1; ",
    "\n",
    "    while less(i,y)\n",
    "    begin\n",
    "        res := times(res,x);\n",
    "        i := plus(i,1); \n",
    "    endwhile;\n",
    "    write res;\n",
    "    return res;\n",
    "endmethod;\n",
    "\n",
    "method main() vars a, b, x\n",
    "begin\n",
    "    a := 5; b := 2; ",
    "\n",
    "    x := pow(b,a);\n",
    "    if  eq(x,32) then write 1; else write 0; endif; \n",
    "endmethod;\n",
    "```"
   ]
  },
  {
   "cell_type": "markdown",
   "id": "8d6f6bc6",
   "metadata": {},
   "source": [
    "Below you can see the abstract syntax of FUNC and a representation of the above program: "
   ]
  },
  {
   "cell_type": "code",
   "execution_count": 2,
   "id": "8a29ff26",
   "metadata": {},
   "outputs": [
    {
     "data": {
      "text/plain": [
       "type exp = Numb of int | Id of string | App of string * exp list\n"
      ]
     },
     "execution_count": 2,
     "metadata": {},
     "output_type": "execute_result"
    },
    {
     "data": {
      "text/plain": [
       "type bop = Less | LessEq | Eq | NEq\n"
      ]
     },
     "execution_count": 2,
     "metadata": {},
     "output_type": "execute_result"
    },
    {
     "data": {
      "text/plain": [
       "type cond = C of bop * exp * exp\n"
      ]
     },
     "execution_count": 2,
     "metadata": {},
     "output_type": "execute_result"
    },
    {
     "data": {
      "text/plain": [
       "type statement =\n",
       "    Assign of string * exp\n",
       "  | Read of string\n",
       "  | Write of exp\n",
       "  | If of cond * statement list\n",
       "  | Ite of cond * statement list * statement list\n",
       "  | While of cond * statement list\n"
      ]
     },
     "execution_count": 2,
     "metadata": {},
     "output_type": "execute_result"
    },
    {
     "data": {
      "text/plain": [
       "type mmethod =\n",
       "    M of string * string list * string list * statement list * string option\n"
      ]
     },
     "execution_count": 2,
     "metadata": {},
     "output_type": "execute_result"
    },
    {
     "data": {
      "text/plain": [
       "type program = P of mmethod list\n"
      ]
     },
     "execution_count": 2,
     "metadata": {},
     "output_type": "execute_result"
    },
    {
     "data": {
      "text/plain": [
       "val p1 : program =\n",
       "  P\n",
       "   [M (\"pow\", [\"x\"; \"y\"], [\"i\"; \"res\"],\n",
       "     [Assign (\"res\", Id \"x\"); Assign (\"i\", Numb 1);\n",
       "      While (C (Less, Id \"i\", Id \"y\"),\n",
       "       [Assign (\"res\", App (\"times\", [Id \"res\"; Id \"x\"]));\n",
       "        Assign (\"i\", App (\"plus\", [Id \"i\"; Numb 1]))]);\n",
       "      Write (Id \"res\")],\n",
       "     Some \"res\");\n",
       "    M (\"main\", [], [\"a\"; \"b\"; \"x\"],\n",
       "     [Assign (\"a\", Numb 5); Assign (\"b\", Numb 2);\n",
       "      Assign (\"x\", App (\"pow\", [Id \"b\"; Id \"a\"]));\n",
       "      Ite (C (Eq, Id \"x\", Numb 32), [Write (Numb 1)], [Write (Numb 0)])],\n",
       "     None)]\n"
      ]
     },
     "execution_count": 2,
     "metadata": {},
     "output_type": "execute_result"
    }
   ],
   "source": [
    "type exp = Numb of int | Id of string | App of string * exp list\n",
    "\n",
    "type bop = Less | LessEq | Eq | NEq \n",
    "type cond = C of bop * exp * exp\n",
    "\n",
    "type statement =\n",
    "  Assign of string * exp\n",
    "| Read of string\n",
    "| Write of exp \n",
    "| If of cond * statement list\n",
    "| Ite of cond * statement list * statement list\n",
    "| While of cond * statement list\n",
    "\n",
    "type mmethod = M of string (* name of function *)\n",
    "                * string list (* arguments *)\n",
    "                * string list (* declarations *) \n",
    "                * statement list (* function body *)\n",
    "                * string option (* possible return value *)\n",
    "\n",
    "type program = P of mmethod list\n",
    "\n",
    "let p1 : program  =\n",
    "  P\n",
    "    [M (\"pow\", [\"x\"; \"y\"], [\"i\"; \"res\"],\n",
    "      [Assign (\"res\", Id \"x\"); Assign (\"i\", Numb 1);\n",
    "       While (C (Less, Id \"i\", Id \"y\"),\n",
    "        [Assign (\"res\", App (\"times\", [Id \"res\"; Id \"x\"]));\n",
    "         Assign (\"i\", App (\"plus\", [Id \"i\"; Numb 1]))]);\n",
    "       Write (Id \"res\")],\n",
    "      Some \"res\");\n",
    "     M (\"main\", [], [\"a\"; \"b\"; \"x\"],\n",
    "      [Assign (\"a\", Numb 5); Assign (\"b\", Numb 2);\n",
    "       Assign (\"x\", App (\"pow\", [Id \"b\"; Id \"a\"]));\n",
    "       Ite (C (Eq, Id \"x\", Numb 32), [Write (Numb 1)], [Write (Numb 0)])],\n",
    "      None)]"
   ]
  },
  {
   "cell_type": "markdown",
   "id": "57b202ac",
   "metadata": {},
   "source": [
    "As in the lectures, we will use environments to look up variables. \n",
    "As there are no block statements, a simple dictionary suffices."
   ]
  },
  {
   "cell_type": "code",
   "execution_count": 3,
   "id": "62d01099",
   "metadata": {},
   "outputs": [
    {
     "data": {
      "text/plain": [
       "exception RuntimeError of string\n"
      ]
     },
     "execution_count": 3,
     "metadata": {},
     "output_type": "execute_result"
    },
    {
     "data": {
      "text/plain": [
       "module Env :\n",
       "  sig\n",
       "    type key = String.t\n",
       "    type 'a t = 'a Map.Make(String).t\n",
       "    val empty : 'a t\n",
       "    val is_empty : 'a t -> bool\n",
       "    val mem : key -> 'a t -> bool\n",
       "    val add : key -> 'a -> 'a t -> 'a t\n",
       "    val update : key -> ('a option -> 'a option) -> 'a t -> 'a t\n",
       "    val singleton : key -> 'a -> 'a t\n",
       "    val remove : key -> 'a t -> 'a t\n",
       "    val merge :\n",
       "      (key -> 'a option -> 'b option -> 'c option) -> 'a t -> 'b t -> 'c t\n",
       "    val union : (key -> 'a -> 'a -> 'a option) -> 'a t -> 'a t -> 'a t\n",
       "    val compare : ('a -> 'a -> int) -> 'a t -> 'a t -> int\n",
       "    val equal : ('a -> 'a -> bool) -> 'a t -> 'a t -> bool\n",
       "    val iter : (key -> 'a -> unit) -> 'a t -> unit\n",
       "    val fold : (key -> 'a -> 'b -> 'b) -> 'a t -> 'b -> 'b\n",
       "    val for_all : (key -> 'a -> bool) -> 'a t -> bool\n",
       "    val exists : (key -> 'a -> bool) -> 'a t -> bool\n",
       "    val filter : (key -> 'a -> bool) -> 'a t -> 'a t\n",
       "    val filter_map : (key -> 'a -> 'b option) -> 'a t -> 'b t\n",
       "    val partition : (key -> 'a -> bool) -> 'a t -> 'a t * 'a t\n",
       "    val cardinal : 'a t -> int\n",
       "    val bindings : 'a t -> (key * 'a) list\n",
       "    val min_binding : 'a t -> key * 'a\n",
       "    val min_binding_opt : 'a t -> (key * 'a) option\n",
       "    val max_binding : 'a t -> key * 'a\n",
       "    val max_binding_opt : 'a t -> (key * 'a) option\n",
       "    val choose : 'a t -> key * 'a\n",
       "    val choose_opt : 'a t -> (key * 'a) option\n",
       "    val split : key -> 'a t -> 'a t * 'a option * 'a t\n",
       "    val find : key -> 'a t -> 'a\n",
       "    val find_opt : key -> 'a t -> 'a option\n",
       "    val find_first : (key -> bool) -> 'a t -> key * 'a\n",
       "    val find_first_opt : (key -> bool) -> 'a t -> (key * 'a) option\n",
       "    val find_last : (key -> bool) -> 'a t -> key * 'a\n",
       "    val find_last_opt : (key -> bool) -> 'a t -> (key * 'a) option\n",
       "    val map : ('a -> 'b) -> 'a t -> 'b t\n",
       "    val mapi : (key -> 'a -> 'b) -> 'a t -> 'b t\n",
       "    val to_seq : 'a t -> (key * 'a) Seq.t\n",
       "    val to_rev_seq : 'a t -> (key * 'a) Seq.t\n",
       "    val to_seq_from : key -> 'a t -> (key * 'a) Seq.t\n",
       "    val add_seq : (key * 'a) Seq.t -> 'a t -> 'a t\n",
       "    val of_seq : (key * 'a) Seq.t -> 'a t\n",
       "  end\n"
      ]
     },
     "execution_count": 3,
     "metadata": {},
     "output_type": "execute_result"
    },
    {
     "data": {
      "text/plain": [
       "val example_env : int Env.t = <abstr>\n"
      ]
     },
     "execution_count": 3,
     "metadata": {},
     "output_type": "execute_result"
    },
    {
     "data": {
      "text/plain": [
       "- : int = 3\n"
      ]
     },
     "execution_count": 3,
     "metadata": {},
     "output_type": "execute_result"
    },
    {
     "data": {
      "text/plain": [
       "val update_env : string -> 'a -> 'a Env.t -> 'a Env.t = <fun>\n"
      ]
     },
     "execution_count": 3,
     "metadata": {},
     "output_type": "execute_result"
    },
    {
     "data": {
      "text/plain": [
       "val lookup_env : string -> 'a Env.t -> 'a = <fun>\n"
      ]
     },
     "execution_count": 3,
     "metadata": {},
     "output_type": "execute_result"
    }
   ],
   "source": [
    "exception RuntimeError of string\n",
    "\n",
    "(* This will define maps with strings as key *)\n",
    "module Env = Map.Make(String)\n",
    "\n",
    "(* Env.empty denotes the empty environment. \n",
    "We can add elements to an environment via Env.add.\n",
    "This is the environment which only binds “a” to 3. *)\n",
    "let example_env = Env.add \"a\" 3 Env.empty;;\n",
    "\n",
    "(* We can look up elements in an environment via Env.find.\n",
    "Env.find throws an exception if the key does not exist.*)\n",
    "Env.find \"a\" example_env;;\n",
    "\n",
    "let update_env (x : string) v env = Env.add x v env \n",
    "let lookup_env (x : string) env = Env.find x env "
   ]
  },
  {
   "cell_type": "markdown",
   "id": "e2092970",
   "metadata": {},
   "source": [
    "## Part 1: Interpreter for Basic Parts (6 points)\n",
    "\n",
    "In the first part of the assignment, you will write an interpreter for the part that does not require arbitrary functions, i.e. only works for the following subpart of the syntax: \n",
    "\n",
    "\n",
    "```\n",
    "<statements> ::= <statement>;[<statements>] ",
    "\n",
    "<statement> ::= <assign> | <if> | <while> | <rw>\n",
    "<rw> ::= read <id> | write <exp>\n",
    "<assign> ::= <id> := <exp>\n",
    "<if> ::= if  <cond> then <statements> [else <statements>] endif ",
    "\n",
    "<while> ::= while <cond> begin <statements> endwhile\n",
    "<cond> ::= <bop> ( [<exps>] ) ",
    "\n",
    "<bop> ::= less | lessEq | eq | nEq ",
    "\n",
    "<exps> ::= <exp> [,<exps>] ",
    "\n",
    "<exp> ::= <id> | plus (<exp>, <exp>) | minus (<exp>, <exp>) | times (<exp>, <exp>) | divide (<exp>, <exp>) | <int> ",
    "\n",
    "<int> is a natural number (no leading zeroes) ",
    "\n",
    "<id> is any string starting with a character followed by characters or numbers (that is not already a keyword)\n",
    "```"
   ]
  },
  {
   "cell_type": "markdown",
   "id": "37f1604e",
   "metadata": {},
   "source": [
    "Later on, we will require values in the environment to be either an ``int`` or closures.\n",
    "For now, values are simply integers:"
   ]
  },
  {
   "cell_type": "code",
   "execution_count": 12,
   "id": "eea79f26",
   "metadata": {},
   "outputs": [
    {
     "data": {
      "text/plain": [
       "type value = VInt of int\n"
      ]
     },
     "execution_count": 12,
     "metadata": {},
     "output_type": "execute_result"
    }
   ],
   "source": [
    "type value = VInt of int"
   ]
  },
  {
   "cell_type": "markdown",
   "id": "da3290fd",
   "metadata": {},
   "source": [
    "# Write a mutually recursive evaluator for statements in FUNC. \n",
    "\n",
    "Your evaluator should contain, mutually recursively: \n",
    "-  a function ``eval_exp : exp -> value Env.t -> value`` evaluating expressions to values. \n",
    "Your expressions should correctly evaluate identifiers ``Id x`` and constants ``Numb n``, but for function arguments have to only evaluate ``App (\"plus\", [e1; e2])``, ``App (\"minus\", [e1; e2])``, ``App (\"times\", [e1; e2])`` and ``App (\"divide\", [e1; e2])``.\n",
    "You can match directly on these cases, i.e. \n",
    "\n",
    "```\n",
    "match e with \n",
    "| App (\"plus\", [e1; e2]) -> (* What it should evaluate to *)\n",
    "```\n",
    "\n",
    "\n",
    "Note that in these cases, no methods have to be executed - ``App (\"plus\", [VInt m; VInt n])`` simply evaluates to ``VInt (m + n)``.\n",
    "\n",
    "All other function calls should throw an error message that they are not implemented: \n",
    "```\n",
    "match e with \n",
    "... \n",
    "| App (f, es) -> raise (RuntimeError \"Arbitrary functions not implemented.\")\n",
    "```\n",
    "\n",
    "(You want to test that all tests until ``test_add`` are working before you continue.)\n",
    "- a function ``eval_condexp: cond -> value Env.t -> int`` that evaluates conditional expressions. \n",
    "- a function ``eval_stmt: statement -> value Env.t -> value Env.t`` that evaluates a single statement.\n",
    "As in SIMP, please ignore the ``Read`` primitive, i.e. add the case: \n",
    "\n",
    "```\n",
    "    | Read _ -> raise (RuntimeError \"Read not implemented.\")\n",
    "```\n",
    "\n",
    "- a function ``eval_stmts: statement list -> value Env.t -> value Env.t`` that evaluates a list of statements. "
   ]
  },
  {
   "cell_type": "code",
   "execution_count": 15,
   "id": "85c8f404",
   "metadata": {},
   "outputs": [
    {
     "data": {
      "text/plain": [
       "val eval_exp : exp -> value Env.t -> value = <fun>\n",
       "val eval_condexp : cond -> value Env.t -> int = <fun>\n",
       "val eval_stmt : statement -> value Env.t -> value Env.t = <fun>\n",
       "val eval_stmts : statement list -> value Env.t -> value Env.t = <fun>\n"
      ]
     },
     "execution_count": 15,
     "metadata": {},
     "output_type": "execute_result"
    }
   ],
   "source": [
    "let rec eval_exp (e : exp) (env : value Env.t) : value = match e with \n",
    "    | Numb n ->  VInt n (* Transforms directly to type value. *)\n",
    "    | Id x -> Env.find x env (* Uses predefined helper function to return the value associated with ID *)\n",
    "    | App (\"plus\", [e1; e2]) -> (match eval_exp e1 env, eval_exp e2 env with \n",
    "                                | VInt m, VInt n -> VInt (m + n))\n",
    "    | App (\"times\", [e1; e2]) -> (match eval_exp e1 env, eval_exp e2 env with \n",
    "                                | VInt m, VInt n -> VInt (m * n))\n",
    "    | App (\"minus\", [e1; e2]) -> (match eval_exp e1 env, eval_exp e2 env with \n",
    "                                | VInt m, VInt n -> VInt (m - n))\n",
    "    | App (\"divide\", [e1; e2]) -> (match eval_exp e1 env, eval_exp e2 env with \n",
    "                                | VInt m, VInt n -> \n",
    "                                    if n != 0 (* So OCaml doesn't divide by 0. *)\n",
    "                                    then VInt (m / n) \n",
    "                                    else raise (RuntimeError \"Divison by 0\"))\n",
    "    | App (f, es) -> raise (RuntimeError \"Arbitrary functions not implemented.\")\n",
    "\n",
    "and eval_condexp (e : cond) (env : value Env.t) : int = match e with                         \n",
    "    | C (op, e1, e2) -> let VInt v1 = eval_exp e1 env in (* Declaring values to eliminate verbosity. *)\n",
    "                        let VInt v2 = eval_exp e2 env in\n",
    "                        match op with (* Matches with all possible values of type bop. *)\n",
    "                        | Less -> if v1 < v2 then 1 else 0\n",
    "                        | LessEq -> if v1 <= v2 then 1 else 0\n",
    "                        | Eq -> if v1 = v2 then 1 else 0\n",
    "                        | NEq -> if v1 != v2 then 1 else 0\n",
    "\n",
    "and eval_stmt (s : statement) (env : value Env.t) : value Env.t = match s with \n",
    "  | Assign (x, e) -> Env.add x (eval_exp e env) env (* Uses predefined helper function to assign ID to values. *)\n",
    "  | Write e -> let VInt v = eval_exp e env in\n",
    "      print_endline (\"OUTPUT: \" ^ string_of_int v); env\n",
    "  | If (c, s) -> (match (eval_condexp c env) with \n",
    "                        | 1 -> (match s with \n",
    "                                | stmt :: stmt' -> eval_stmt stmt env (* Evaluates head statement of list. *)\n",
    "                                | [] -> env)\n",
    "                        | 0 -> env\n",
    "                        | _ -> raise (RuntimeError \"Error in condition of If\"))\n",
    "  | Ite (c, s1, s2) -> (match (eval_condexp c env) with \n",
    "                        | 1 -> (match s1 with \n",
    "                                | stmt :: stmt' -> eval_stmt stmt env \n",
    "                                | [] -> env)\n",
    "                        | 0 -> (match s2 with \n",
    "                                | stmt :: stmt' -> eval_stmt stmt env \n",
    "                                | [] -> env)\n",
    "                        | _ -> raise (RuntimeError \"Error in condition of Ite\"))\n",
    "  | While (c, s) -> let rec loop env = (* Only computes if eval_condexp returns 1 (mapped to true). *)\n",
    "                      if (match (eval_condexp c env) with \n",
    "                          | 1 -> true \n",
    "                          | 0 -> false\n",
    "                          | _ -> raise (RuntimeError \"Error in condition of While\"))\n",
    "                      then loop (eval_stmts s env) \n",
    "                      else env\n",
    "                      in loop env\n",
    "  | _ -> raise (RuntimeError \"Unimplemented statement.\")\n",
    "\n",
    "and eval_stmts (stmts : statement list) (env : value Env.t) : value Env.t = match stmts with \n",
    "    | [] -> env\n",
    "    | s :: stms' -> eval_stmts stms' (eval_stmt s env) "
   ]
  },
  {
   "cell_type": "markdown",
   "id": "28709a3e",
   "metadata": {},
   "source": [
    "## Test Cases Part 1\n",
    "Here is a (not necessarily complete) set of test cases: "
   ]
  },
  {
   "cell_type": "code",
   "execution_count": 6,
   "id": "df87d163",
   "metadata": {},
   "outputs": [
    {
     "data": {
      "text/plain": [
       "val env : value Env.t = <abstr>\n"
      ]
     },
     "execution_count": 6,
     "metadata": {},
     "output_type": "execute_result"
    },
    {
     "data": {
      "text/plain": [
       "val test_numb : value = VInt 3\n"
      ]
     },
     "execution_count": 6,
     "metadata": {},
     "output_type": "execute_result"
    },
    {
     "data": {
      "text/plain": [
       "val test_id : value = VInt 2\n"
      ]
     },
     "execution_count": 6,
     "metadata": {},
     "output_type": "execute_result"
    },
    {
     "data": {
      "text/plain": [
       "val test_add : value = VInt 5\n"
      ]
     },
     "execution_count": 6,
     "metadata": {},
     "output_type": "execute_result"
    },
    {
     "name": "stdout",
     "output_type": "stream",
     "text": [
      "OUTPUT: 3\n"
     ]
    },
    {
     "data": {
      "text/plain": [
       "val test_stmt_write : value Env.t = <abstr>\n"
      ]
     },
     "execution_count": 6,
     "metadata": {},
     "output_type": "execute_result"
    },
    {
     "name": "stdout",
     "output_type": "stream",
     "text": [
      "OUTPUT: 3\n"
     ]
    },
    {
     "data": {
      "text/plain": [
       "val test_stmt_if : value Env.t = <abstr>\n"
      ]
     },
     "execution_count": 6,
     "metadata": {},
     "output_type": "execute_result"
    },
    {
     "name": "stdout",
     "output_type": "stream",
     "text": [
      "OUTPUT: 32\n"
     ]
    },
    {
     "data": {
      "text/plain": [
       "val test_stmts : value Env.t = <abstr>\n"
      ]
     },
     "execution_count": 6,
     "metadata": {},
     "output_type": "execute_result"
    }
   ],
   "source": [
    "(* let p1 : program  =\n",
    "  P\n",
    "    [M (\"pow\", [\"x\"; \"y\"], [\"i\"; \"res\"],\n",
    "      [Assign (\"res\", Id \"x\"); Assign (\"i\", Numb 1);\n",
    "       While (C (Less, Id \"i\", Id \"y\"),\n",
    "        [Assign (\"res\", App (\"times\", [Id \"res\"; Id \"x\"]));\n",
    "         Assign (\"i\", App (\"plus\", [Id \"i\"; Numb 1]))]);\n",
    "       Write (Id \"res\")],\n",
    "      Some \"res\");\n",
    "     M (\"main\", [], [\"a\"; \"b\"; \"x\"],\n",
    "      [Assign (\"a\", Numb 5); Assign (\"b\", Numb 2);\n",
    "       Assign (\"x\", App (\"pow\", [Id \"b\"; Id \"a\"]));\n",
    "       Ite (C (Eq, Id \"x\", Numb 32), [Write (Numb 1)], [Write (Numb 0)])],\n",
    "      None)] *)\n",
    "\n",
    "let env = update_env \"x\" (VInt 2) (update_env \"y\" (VInt 5) Env.empty)\n",
    "\n",
    "let test_numb =  eval_exp (Numb 3) env\n",
    "(* Should yield VInt 3. *)\n",
    "\n",
    "let test_id =  eval_exp (Id \"x\") env\n",
    "(* Should yield VInt 2. *)\n",
    "\n",
    "let test_add = eval_exp (App (\"plus\", [Id \"x\"; Numb 3])) env\n",
    "(* Should yield VInt 5. *)\n",
    "\n",
    "let test_stmt_write = eval_stmt (Write (Numb 3)) env\n",
    "(* This should have: \"OUTPUT: 3\" *)\n",
    "\n",
    "let test_stmt_if = eval_stmt (If (C (Eq, Numb 2, Numb 2), [Write (Numb 3)])) env\n",
    "(* This should have: \"OUTPUT: 3\" *)\n",
    "\n",
    "let test_stmts = eval_stmts [Assign (\"res\", Id \"x\"); Assign (\"i\", Numb 1);\n",
    "       While (C (Less, Id \"i\", Id \"y\"),\n",
    "        [Assign (\"res\", App (\"times\", [Id \"res\"; Id \"x\"]));\n",
    "         Assign (\"i\", App (\"plus\", [Id \"i\"; Numb 1]))]);\n",
    "       Write (Id \"res\")] env  \n",
    "       \n",
    "(* This should have: \"OUTPUT: 32\". *)"
   ]
  },
  {
   "cell_type": "markdown",
   "id": "c953249e",
   "metadata": {},
   "source": [
    "# Part 2: Interpreter Including Methods (4 points)\n",
    "\n",
    "In the second part, you extend the interpreter with methods. \n",
    "\n",
    "Values can now be either integers or closures: "
   ]
  },
  {
   "cell_type": "code",
   "execution_count": 7,
   "id": "7815a3a9",
   "metadata": {},
   "outputs": [
    {
     "data": {
      "text/plain": [
       "type value =\n",
       "    VInt of int\n",
       "  | Closure of string list * statement list * string option\n"
      ]
     },
     "execution_count": 7,
     "metadata": {},
     "output_type": "execute_result"
    }
   ],
   "source": [
    "type value = VInt of int | Closure of string list * statement list * string option "
   ]
  },
  {
   "cell_type": "markdown",
   "id": "fd72216d",
   "metadata": {},
   "source": [
    "A **closure** describes a method, to be evaluated once we know what expressions the variables are bound to. It consists of the **argument names**, a list of statements called the **function body** and an optional return variable.\n",
    "\n",
    "Let us look at the example of: \n",
    "\n",
    "```\n",
    "method pow(x, y) vars i, res\n",
    "begin\n",
    "    res := x; ",
    "\n",
    "    i := 1; ",
    "\n",
    "    while less(i,y)\n",
    "    begin\n",
    "        res := times(res,x);\n",
    "        i := plus(i,1); \n",
    "    endwhile;\n",
    "    write res;\n",
    "    return res;\n",
    "endmethod;\n",
    "\n",
    "method main() vars a, b, x\n",
    "begin\n",
    "    a := 5; b := 2; ",
    "\n",
    "    x := pow(b,a);\n",
    "    if  eq(x,32) then write 1; else write 0; endif; \n",
    "endmethod;\n",
    "```\n",
    "\n",
    "This is what happens during evaluation:\n",
    "1. \"pow\" is bound to the closure of ``pow``, i.e. \n",
    "    ``Closure ([\"x\"; \"y\"], \"res := x ... write res\", Some res)``. \n",
    "2. \"main\" is bound to the closure of ``main``, i.e. \n",
    "    ``Closure ([], \"a := 5... endif\", None)``.\n",
    "3. The main function, ``App (\"main\", [])`` is evaluated in the enviroment ``env`` where pow/main are bound to their closure. As the main function has no arguments, no variables are bound to expressions. Evaluating ``App (\"main\", [])`` means that we \n",
    "    1. Look up the closure of \"main\" in the environment, ensuring it's actually a closure. (If it's not a closure, throw a Runtime Error.) \n",
    "    2. Potentially update the environment to bind the arguments of \"main\" to the handed over expressions. In this case, main does not take any arguments.\n",
    "    3. Execute the statements of \"main\". Here, we first enhance the environment to env' and bind \"a\" to ``VInt 5`` and b to ``VInt 2``. Then, we call \"pow(b, a)\". \n",
    "        1. We look up the closure of \"pow\" in the environment, ensuring it's actually a closure. (If it's not a closure, throw a Runtime Error.)\n",
    "        2. We update the environment to an environment env'' and bind \"x\" to the value of b, i.e. ``VInt 2``, and \"y\" to the value of \"a\", i.e. ``VInt 5``. This means the environment now contains \"main\", \"pow\", \"a\", \"b\", \"x\", and \"y\".\n",
    "        3. We evaluate the statements of \"pow\" in this updated environment env'' to a new environment in which for example res is bound to 32. As res is the variable in the return statement, we evaluate to ``VInt 32`` in this most recent environment.\n",
    "    4. We bind \"x\" to ``VInt 32``, and continue with the environment before calling ``pow(b, a)``, i.e. env'. \n",
    "    5. We write 1."
   ]
  },
  {
   "cell_type": "markdown",
   "id": "f31277d6",
   "metadata": {},
   "source": [
    "Your evaluator should do the following modifications to the code in part 1:\n",
    "\n",
    "- You will want to start by copying your code from part 1.\n",
    "- You might have to change parts where you are matching on values as functions might also be closures.\n",
    "- You require a function ``eval_method : mmethod -> value Env.t -> value Env.t`` that adds the closure corresponding to the method to the environment. Note that *nothing* is evaluated at this point, but we just do a binding, i.e. ``eval_method (M (\"pow\", [\"x\"; \"y\"], [\"i\"; \"res\"], [Assign (\"res\", Id \"x\") ...], Some \"res\"))`` should yield the updated environment where \"pow\" is bound to ``Closure ([\"x\"; \"y\"], [Assign (\"res\", Id \"x\") ...], Some res)``.\n",
    "\n",
    "- You require a function ``eval_methods : mmethod list -> value Env.t -> value Env.t`` that repeats the above step to a list of methods. \n",
    "(Test that ``test_method`` and ``test_methods`` are working before you continue.)\n",
    "\n",
    "- The function ``eval_program : program -> value`` should first evaluates the list of methods, and then evaluates `` eval_exp (App (\"main\", [])) env`` in this updated environment.\n",
    "\n",
    "- You have to modify ``eval_exp`` for applications: \n",
    "\n",
    "```\n",
    " | App (f, es) -> ...\n",
    "```\n",
    "    \n",
    "You might want to first start by getting this to work if ``es`` is empty. \n",
    "In this case you simply evaluate the body of *f*. \n",
    "\n",
    "(Test that ``test_no_arguments`` is working.)\n",
    "\n",
    "- In the case of arguments, you have to first evaluate all expressions ``es`` (you can get a list of values using the ``List.map`` primitive, ``List.map (fun x -> eval_exp x env) es`` which evaluates all elements in ``es`` in the environment ``env``). You then have to bind these values to the arguments of \"f\", which you can find in its closure, to a new environment env'. You might require a new function for this part.\n",
    "You then evaluate the body of f, i.e. use ``eval_stmts`` on ``es`` in the new environment env'."
   ]
  },
  {
   "cell_type": "code",
   "execution_count": 17,
   "id": "b0e5880e",
   "metadata": {},
   "outputs": [
    {
     "name": "stderr",
     "output_type": "stream",
     "text": [
      "File \"[17]\", line 7, characters 34-38:\n",
      "7 |                                 | _, _ -> raise (RuntimeError \"Not integer values\"))\n",
      "                                      ^^^^\n",
      "Warning 11 [redundant-case]: this match case is unused.\n",
      "File \"[17]\", line 10, characters 34-38:\n",
      "10 |                                 | _, _ -> raise (RuntimeError \"Not integer values\"))\n",
      "                                       ^^^^\n",
      "Warning 11 [redundant-case]: this match case is unused.\n",
      "File \"[17]\", line 13, characters 34-38:\n",
      "13 |                                 | _, _ -> raise (RuntimeError \"Not integer values\"))\n",
      "                                       ^^^^\n",
      "Warning 11 [redundant-case]: this match case is unused.\n",
      "File \"[17]\", line 19, characters 34-38:\n",
      "19 |                                 | _, _ -> raise (RuntimeError \"Not integer values\"))\n",
      "                                       ^^^^\n",
      "Warning 11 [redundant-case]: this match case is unused.\n"
     ]
    },
    {
     "ename": "error",
     "evalue": "compile_error",
     "output_type": "error",
     "traceback": [
      "File \"[17]\", line 23, characters 23-30:\n23 |                      | Closure (f_args, f_body, return_opt) -> \n                            ^^^^^^^\nError: This variant pattern is expected to have type value\n       There is no constructor Closure within type value\n"
     ]
    }
   ],
   "source": [
    "(* Only App(f, es) is different in this part. *)\n",
    "let rec eval_exp (e : exp) (env : value Env.t) : value = match e with \n",
    "    | Numb n ->  VInt n\n",
    "    | Id x -> Env.find x env\n",
    "    | App (\"plus\", [e1; e2]) -> (match eval_exp e1 env, eval_exp e2 env with \n",
    "                                | VInt m, VInt n -> VInt (m + n)\n",
    "                                | _, _ -> raise (RuntimeError \"Not integer values\"))\n",
    "    | App (\"times\", [e1; e2]) -> (match eval_exp e1 env, eval_exp e2 env with \n",
    "                                | VInt m, VInt n -> VInt (m * n)\n",
    "                                | _, _ -> raise (RuntimeError \"Not integer values\"))\n",
    "    | App (\"minus\", [e1; e2]) -> (match eval_exp e1 env, eval_exp e2 env with \n",
    "                                | VInt m, VInt n -> VInt (m - n)\n",
    "                                | _, _ -> raise (RuntimeError \"Not integer values\"))\n",
    "    | App (\"divide\", [e1; e2]) -> (match eval_exp e1 env, eval_exp e2 env with \n",
    "                                | VInt m, VInt n -> \n",
    "                                    if n != 0 \n",
    "                                    then VInt (m / n) \n",
    "                                    else raise (RuntimeError \"Divison by 0\")\n",
    "                                | _, _ -> raise (RuntimeError \"Not integer values\"))\n",
    "    | App (f, es) -> let arg_vals = List.map (fun e -> eval_exp e env) es in \n",
    "                     let closure = lookup_env f env in\n",
    "                     (match closure with\n",
    "                     | Closure (f_args, f_body, return_opt) -> \n",
    "                         if List.length f_args <> List.length es (* Tests to stop program from crashing. *)\n",
    "                         then raise (RuntimeError \"Incorrect number of arguments\")\n",
    "                         else let local_env = List.fold_left2 (fun env' arg val' -> update_env arg val' env') env f_args arg_vals in\n",
    "                              let result_env = eval_stmts f_body local_env in\n",
    "                              (match return_opt with (* Allows for optional return value as specification requires. *)\n",
    "                              | Some return_var -> (match Env.find_opt return_var result_env with\n",
    "                                                   | Some v -> v\n",
    "                                                   | None -> raise (RuntimeError \"No return value\"))\n",
    "                              | None -> raise (RuntimeError \"Function did not return a value\"))\n",
    "                     | _ -> raise (RuntimeError \"Function application not supported\"))\n",
    "\n",
    "(* This function is the exact same in part 1. *)\n",
    "and eval_condexp (e : cond) (env : value Env.t) : int = match e with                          \n",
    "    | C (op, e1, e2) -> \n",
    "        (match eval_exp e1 env, eval_exp e2 env with\n",
    "         | VInt v1, VInt v2 ->\n",
    "            (match op with\n",
    "            | Less -> if v1 < v2 then 1 else 0\n",
    "            | LessEq -> if v1 <= v2 then 1 else 0\n",
    "            | Eq -> if v1 = v2 then 1 else 0\n",
    "            | NEq -> if v1 != v2 then 1 else 0)\n",
    "         | _, _ -> raise (RuntimeError \"Expected integer values in condition expression\"))\n",
    "\n",
    "(* Most of this function is the same to part 1. *)\n",
    "and eval_stmt (s : statement) (env : value Env.t) : value Env.t = match s with \n",
    "  | Assign (x, e) -> Env.add x (eval_exp e env) env\n",
    "  | Write e -> (* Had to change this case to be exhaustive due to addition of closures. *)\n",
    "      (match eval_exp e env with\n",
    "       | VInt v -> print_endline (\"OUTPUT: \" ^ string_of_int v); env\n",
    "       | _ -> raise (RuntimeError \"Expected integer value for Write\"))\n",
    "  | If (c, s) -> (match (eval_condexp c env) with \n",
    "                        | 1 -> (match s with \n",
    "                                | stmt :: stmt' -> eval_stmt stmt env \n",
    "                                | [] -> env)\n",
    "                        | 0 -> env\n",
    "                        | _ -> raise (RuntimeError \"Error in condition of If\")\n",
    "                        )\n",
    "  | Ite (c, s1, s2) -> (match (eval_condexp c env) with \n",
    "                        | 1 -> (match s1 with \n",
    "                                | stmt :: stmt' -> eval_stmt stmt env \n",
    "                                | [] -> env)\n",
    "                        | 0 -> (match s2 with \n",
    "                                | stmt :: stmt' -> eval_stmt stmt env \n",
    "                                | [] -> env)\n",
    "                        | _ -> raise (RuntimeError \"Error in condition of Ite\"))\n",
    "  | While (c, s) -> let rec loop env =\n",
    "                      if (match eval_condexp c env with\n",
    "                          | 1 -> true\n",
    "                          | 0 -> false\n",
    "                          | _ -> raise (RuntimeError \"Error in condition of While\"))\n",
    "                      then loop (eval_stmts s env) \n",
    "                      else env\n",
    "                      in loop env\n",
    "  | _ -> raise (RuntimeError \"Unimplemented statement.\")\n",
    "  \n",
    "(* This function is the exact same in part 1. *)\n",
    "and eval_stmts (stmts : statement list) (env : value Env.t) : value Env.t = match stmts with \n",
    "    | [] -> env\n",
    "    | s :: stms' -> eval_stmts stms' (eval_stmt s env) \n",
    "        \n",
    "let eval_method (m : mmethod) (env : value Env.t) : value Env.t = match m with \n",
    "    | M (f, args, dcls, body, return) -> Env.add f (Closure (args, body, return)) env\n",
    "\n",
    "(* Uses same general syntax as eval_stmts. *)\n",
    "let rec eval_methods (ms : mmethod list) (env : value Env.t) : value Env.t =\n",
    "    match ms with\n",
    "    | [] -> env\n",
    "    | m :: ms' -> \n",
    "        let env' = eval_method m env in\n",
    "        eval_methods ms' env'\n",
    "\n",
    "let eval_program p =\n",
    "    let P ms = p in (* Program is of type method list. This looks at part of it. *)\n",
    "    let global_env = eval_methods ms Env.empty in\n",
    "    match List.find_opt (fun (M (name, _, _, _, _)) -> name = \"main\") ms with\n",
    "    | Some main_method -> eval_method main_method global_env\n",
    "    | None -> raise (RuntimeError \"Main method not found\")"
   ]
  },
  {
   "cell_type": "code",
   "execution_count": 9,
   "id": "f35f042c",
   "metadata": {},
   "outputs": [
    {
     "data": {
      "text/plain": [
       "val pow : mmethod =\n",
       "  M (\"pow\", [\"x\"; \"y\"], [\"i\"; \"res\"],\n",
       "   [Assign (\"res\", Id \"x\"); Assign (\"i\", Numb 1);\n",
       "    While (C (Less, Id \"i\", Id \"y\"),\n",
       "     [Assign (\"res\", App (\"times\", [Id \"res\"; Id \"x\"]));\n",
       "      Assign (\"i\", App (\"plus\", [Id \"i\"; Numb 1]))]);\n",
       "    Write (Id \"res\")],\n",
       "   Some \"res\")\n"
      ]
     },
     "execution_count": 9,
     "metadata": {},
     "output_type": "execute_result"
    },
    {
     "data": {
      "text/plain": [
       "val methods : mmethod list =\n",
       "  [M (\"pow\", [\"x\"; \"y\"], [\"i\"; \"res\"],\n",
       "    [Assign (\"res\", Id \"x\"); Assign (\"i\", Numb 1);\n",
       "     While (C (Less, Id \"i\", Id \"y\"),\n",
       "      [Assign (\"res\", App (\"times\", [Id \"res\"; Id \"x\"]));\n",
       "       Assign (\"i\", App (\"plus\", [Id \"i\"; Numb 1]))]);\n",
       "     Write (Id \"res\")],\n",
       "    Some \"res\");\n",
       "   M (\"main\", [], [\"a\"; \"b\"; \"x\"],\n",
       "    [Assign (\"a\", Numb 5); Assign (\"b\", Numb 2);\n",
       "     Assign (\"x\", App (\"pow\", [Id \"b\"; Id \"a\"]));\n",
       "     Ite (C (Eq, Id \"x\", Numb 32), [Write (Numb 1)], [Write (Numb 0)])],\n",
       "    None)]\n"
      ]
     },
     "execution_count": 9,
     "metadata": {},
     "output_type": "execute_result"
    },
    {
     "data": {
      "text/plain": [
       "val test_method : unit = ()\n"
      ]
     },
     "execution_count": 9,
     "metadata": {},
     "output_type": "execute_result"
    },
    {
     "data": {
      "text/plain": [
       "val test_methods : unit = ()\n"
      ]
     },
     "execution_count": 9,
     "metadata": {},
     "output_type": "execute_result"
    },
    {
     "data": {
      "text/plain": [
       "val prog_no_arg : program =\n",
       "  P\n",
       "   [M (\"main\", [], [\"a\"; \"b\"; \"x\"],\n",
       "     [Assign (\"a\", Numb 5); Assign (\"b\", Numb 2);\n",
       "      Assign (\"x\", App (\"plus\", [Id \"b\"; Id \"a\"])); Write (Id \"x\")],\n",
       "     None)]\n"
      ]
     },
     "execution_count": 9,
     "metadata": {},
     "output_type": "execute_result"
    },
    {
     "data": {
      "text/plain": [
       "val test_no_argument : value Env.t = <abstr>\n"
      ]
     },
     "execution_count": 9,
     "metadata": {},
     "output_type": "execute_result"
    },
    {
     "data": {
      "text/plain": [
       "val p1 : program =\n",
       "  P\n",
       "   [M (\"pow\", [\"x\"; \"y\"], [\"i\"; \"res\"],\n",
       "     [Assign (\"res\", Id \"x\"); Assign (\"i\", Numb 1);\n",
       "      While (C (Less, Id \"i\", Id \"y\"),\n",
       "       [Assign (\"res\", App (\"times\", [Id \"res\"; Id \"x\"]));\n",
       "        Assign (\"i\", App (\"plus\", [Id \"i\"; Numb 1]))]);\n",
       "      Write (Id \"res\")],\n",
       "     Some \"res\");\n",
       "    M (\"main\", [], [\"a\"; \"b\"; \"x\"],\n",
       "     [Assign (\"a\", Numb 5); Assign (\"b\", Numb 2);\n",
       "      Assign (\"x\", App (\"pow\", [Id \"b\"; Id \"a\"]));\n",
       "      Ite (C (Eq, Id \"x\", Numb 32), [Write (Numb 1)], [Write (Numb 0)])],\n",
       "     None)]\n"
      ]
     },
     "execution_count": 9,
     "metadata": {},
     "output_type": "execute_result"
    },
    {
     "data": {
      "text/plain": [
       "val test_program : value Env.t = <abstr>\n"
      ]
     },
     "execution_count": 9,
     "metadata": {},
     "output_type": "execute_result"
    }
   ],
   "source": [
    "let pow = M (\"pow\", [\"x\"; \"y\"], [\"i\"; \"res\"],\n",
    "      [Assign (\"res\", Id \"x\"); Assign (\"i\", Numb 1);\n",
    "       While (C (Less, Id \"i\", Id \"y\"),\n",
    "        [Assign (\"res\", App (\"times\", [Id \"res\"; Id \"x\"]));\n",
    "         Assign (\"i\", App (\"plus\", [Id \"i\"; Numb 1]))]);\n",
    "       Write (Id \"res\")],\n",
    "      Some \"res\") \n",
    "      \n",
    "let methods = [M (\"pow\", [\"x\"; \"y\"], [\"i\"; \"res\"],\n",
    "      [Assign (\"res\", Id \"x\"); Assign (\"i\", Numb 1);\n",
    "       While (C (Less, Id \"i\", Id \"y\"),\n",
    "        [Assign (\"res\", App (\"times\", [Id \"res\"; Id \"x\"]));\n",
    "         Assign (\"i\", App (\"plus\", [Id \"i\"; Numb 1]))]);\n",
    "       Write (Id \"res\")],\n",
    "      Some \"res\");\n",
    "     M (\"main\", [], [\"a\"; \"b\"; \"x\"],\n",
    "      [Assign (\"a\", Numb 5); Assign (\"b\", Numb 2);\n",
    "       Assign (\"x\", App (\"pow\", [Id \"b\"; Id \"a\"]));\n",
    "       Ite (C (Eq, Id \"x\", Numb 32), [Write (Numb 1)], [Write (Numb 0)])],\n",
    "      None)]\n",
    "\n",
    "let test_method = let \n",
    "        env = eval_method pow Env.empty in \n",
    "        assert (lookup_env \"pow\" env = Closure ([\"x\"; \"y\"], [Assign (\"res\", Id \"x\"); Assign (\"i\", Numb 1);\n",
    "       While (C (Less, Id \"i\", Id \"y\"),\n",
    "        [Assign (\"res\", App (\"times\", [Id \"res\"; Id \"x\"]));\n",
    "         Assign (\"i\", App (\"plus\", [Id \"i\"; Numb 1]))]);\n",
    "       Write (Id \"res\")], Some \"res\"))\n",
    "\n",
    "let test_methods = let\n",
    "        env = eval_methods methods Env.empty in \n",
    "        assert (lookup_env \"pow\" env = Closure ([\"x\"; \"y\"], [Assign (\"res\", Id \"x\"); Assign (\"i\", Numb 1);\n",
    "       While (C (Less, Id \"i\", Id \"y\"),\n",
    "        [Assign (\"res\", App (\"times\", [Id \"res\"; Id \"x\"]));\n",
    "         Assign (\"i\", App (\"plus\", [Id \"i\"; Numb 1]))]);\n",
    "       Write (Id \"res\")], Some \"res\"))\n",
    "\n",
    "\n",
    "let prog_no_arg = P [M (\"main\", [], [\"a\"; \"b\"; \"x\"],\n",
    "      [Assign (\"a\", Numb 5); Assign (\"b\", Numb 2);\n",
    "       Assign (\"x\", App (\"plus\", [Id \"b\"; Id \"a\"]));\n",
    "       Write (Id \"x\")],\n",
    "      None)]\n",
    "\n",
    "\n",
    "let test_no_argument = eval_program prog_no_arg\n",
    "(* Should print: \"OUTPUT: 7.\" *)\n",
    "\n",
    "let p1 : program  =\n",
    "  P\n",
    "    [M (\"pow\", [\"x\"; \"y\"], [\"i\"; \"res\"],\n",
    "      [Assign (\"res\", Id \"x\"); Assign (\"i\", Numb 1);\n",
    "       While (C (Less, Id \"i\", Id \"y\"),\n",
    "        [Assign (\"res\", App (\"times\", [Id \"res\"; Id \"x\"]));\n",
    "         Assign (\"i\", App (\"plus\", [Id \"i\"; Numb 1]))]);\n",
    "       Write (Id \"res\")],\n",
    "      Some \"res\");\n",
    "     M (\"main\", [], [\"a\"; \"b\"; \"x\"],\n",
    "      [Assign (\"a\", Numb 5); Assign (\"b\", Numb 2);\n",
    "       Assign (\"x\", App (\"pow\", [Id \"b\"; Id \"a\"]));\n",
    "       Ite (C (Eq, Id \"x\", Numb 32), [Write (Numb 1)], [Write (Numb 0)])],\n",
    "      None)]\n",
    "      \n",
    "let test_program = eval_program p1      \n",
    "(* Should print: \n",
    "OUTPUT:32\n",
    "OUTPUT:1 *)"
   ]
  },
  {
   "cell_type": "code",
   "execution_count": null,
   "id": "1d6aab1d",
   "metadata": {},
   "outputs": [],
   "source": []
  },
  {
   "cell_type": "code",
   "execution_count": null,
   "id": "02b7c17b",
   "metadata": {},
   "outputs": [],
   "source": []
  }
 ],
 "metadata": {
  "kernelspec": {
   "display_name": "OCaml default",
   "language": "OCaml",
   "name": "ocaml-jupyter"
  },
  "language_info": {
   "codemirror_mode": "text/x-ocaml",
   "file_extension": ".ml",
   "mimetype": "text/x-ocaml",
   "name": "OCaml",
   "nbconverter_exporter": null,
   "pygments_lexer": "OCaml",
   "version": "4.14.1"
  }
 },
 "nbformat": 4,
 "nbformat_minor": 5
}
