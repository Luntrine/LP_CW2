{
 "cells": [
  {
   "cell_type": "markdown",
   "id": "64a4419e",
   "metadata": {},
   "source": [
    "# CW 2.4:  Lexer for FUNC\n",
    "\n",
    "Your overall task is to develop a compiler for the programming language given below, called ``FUNC``."
   ]
  },
  {
   "cell_type": "markdown",
   "id": "ef45ea05",
   "metadata": {},
   "source": [
    "**CW 2.4** consists of writing a lexer for FUNC.\n",
    "\n",
    "If you have any questions, use the labs slots or ask Kathrin & the Lab Helpers."
   ]
  },
  {
   "cell_type": "markdown",
   "id": "d59f7dae",
   "metadata": {},
   "source": [
    "**IMPORTANT** \n",
    "Compiler errors: All code you submit must compile. Programs that do not compile will receive an automatic zero.\n",
    "- If you are having trouble getting your assignment to compile, please visit consulting hours.\n",
    "- If you run out of time, it is better to comment out the parts that do not compile, than hand in a more complete file that does not compile."
   ]
  },
  {
   "cell_type": "markdown",
   "id": "c050032c",
   "metadata": {},
   "source": [
    "## Testing \n",
    "\n",
    "At the end of this file you'll find example program you can test your programs with. \n",
    "**You will want to write additional tests for intermediate steps.**\n",
    "\n",
    "You can easily write tests to ensure that your program behaves as expected as follows:"
   ]
  },
  {
   "cell_type": "code",
   "execution_count": 1,
   "id": "89e795f8",
   "metadata": {},
   "outputs": [
    {
     "data": {
      "text/plain": [
       "- : unit = ()\n"
      ]
     },
     "execution_count": 1,
     "metadata": {},
     "output_type": "execute_result"
    }
   ],
   "source": [
    "assert ([2;3;5;5;2;1] (* Expected result *) \n",
    "= [2;3;5] @ [5;2;1] (* Calling your function *) ) ;; "
   ]
  },
  {
   "cell_type": "markdown",
   "id": "22b504b2",
   "metadata": {},
   "source": [
    "**The plagarism policy does not hold for this part of the coursework. \n",
    "Please feel free to share your tests with other students in the course.**"
   ]
  },
  {
   "cell_type": "markdown",
   "id": "cf5fedd2",
   "metadata": {},
   "source": [
    "## Submission\n",
    "\n",
    "Please submit a .zip file containing this notebook and the file ``CW/func.mll`` on Canvas until **Thu, 28th March**. \n",
    "\n",
    "**Late Submissions.** See Canvas for F29LP's late-submission policy. \n",
    "\n",
    "**Plagarism.** All code (except tests) is subject to the course's plagarism policy. \n",
    "\n",
    "Happy coding!"
   ]
  },
  {
   "cell_type": "markdown",
   "id": "9b7dc909",
   "metadata": {},
   "source": [
    "## The Source Language: FUNC\n",
    "\n",
    "Recall the syntax of FUNC:\n",
    "\n",
    "```\n",
    "<program> ::= <methods> ",
    "\n",
    "<methods> ::= <method>;[<methods>] ",
    "\n",
    "<method> ::= method <id>([<args>]) [vars <args>] \n",
    "\tbegin <statements> [return <id>;] endmethod\n",
    "<args> ::= <id>[,<args>] \n",
    "<statements> ::= <statement>;[<statements>] ",
    "\n",
    "<statement> ::= <assign> | <if> | <while> | <rw>\n",
    "<rw> ::= read <id> | write <exp>\n",
    "<assign> ::= <id> := <exp>\n",
    "<if> ::= if  <cond> then <statements> [else <statements>] endif ",
    "\n",
    "<while> ::= while <cond> begin <statements> endwhile\n",
    "<cond> ::= <bop> ( [<exps>] ) ",
    "\n",
    "<bop> ::= less | lessEq | eq | nEq ",
    "\n",
    "<exps> ::= <exp> [,<exps>] ",
    "\n",
    "<exp> ::= <id>[( [<exps>] )] | <int> ",
    "\n",
    "<int> is a natural number (no leading zeroes) ",
    "\n",
    "<id> is any string starting with a character followed by characters or numbers (that is not already a keyword)\n",
    "```\n",
    "\n",
    "- Each program must have a function called ``main`` with no arguments and no return value. \n",
    "- All other functions may have an optional return value. If a function does not have a return value, they implicitly return `0`.\n",
    "- You should support the following built-in functions - assume they have been defined; they accept two integers and return an integer:\n",
    "     - ``plus``, which adds its arguments;\n",
    "     - ``times``, which multiplies its arguments;\n",
    "     - ``minus``, which subtracts its arguments;\n",
    "     - ``divide``, which divides its arguments.\n",
    "- All the boolean operators (``less``, ``lessEq``, ``eq``, ``nEq``) are also binary, i.e. take two arguments.\n",
    "- The ``read`` command assumes that the given variable is an ``int`` variable.\n",
    "\n",
    "##### Example \n",
    "\n",
    "The following example illustrates a valid FUNC program (more examples later in the document)\n",
    "\n",
    "```\n",
    "method pow(x, y) vars i, res\n",
    "begin\n",
    "    res := x; ",
    "\n",
    "    i := 1; ",
    "\n",
    "    while less(i,y)\n",
    "    begin\n",
    "        res := times(res,x);\n",
    "        i := plus(i,1); \n",
    "    endwhile;\n",
    "    write res;\n",
    "    return res;\n",
    "endmethod;\n",
    "\n",
    "method main() vars a, b, x\n",
    "begin\n",
    "    a := 5; b := 2; ",
    "\n",
    "    x := pow(b,a);\n",
    "    if  eq(x,32) then write 1; else write 0; endif; \n",
    "endmethod;\n",
    "```"
   ]
  },
  {
   "cell_type": "markdown",
   "id": "bc72e9d7",
   "metadata": {},
   "source": [
    "## Lexing"
   ]
  },
  {
   "cell_type": "markdown",
   "id": "c3ebdf60",
   "metadata": {},
   "source": [
    "Produce a lexer file into ``CW/func.mll`` together with a suitable representation of tokens."
   ]
  },
  {
   "cell_type": "markdown",
   "id": "bc36607d",
   "metadata": {},
   "source": [
    "**IMPORTANT** Jupyter Notebooks automatically saves some output information. \n",
    "Each time you change the ``func.mll`` file and want to re-run the following commands, \n",
    "first choose in the menu Kernel -> Restart & Clear Output to ensure your changed file is used."
   ]
  },
  {
   "cell_type": "code",
   "execution_count": 2,
   "id": "7be51325",
   "metadata": {},
   "outputs": [
    {
     "name": "stderr",
     "output_type": "stream",
     "text": [
      "/Users/lucca/.opam/default/lib/base64: added to search path\n",
      "/Users/lucca/.opam/default/lib/base64/base64.cma: loaded\n",
      "/Users/lucca/.opam/default/lib/ocaml/compiler-libs: added to search path\n",
      "/Users/lucca/.opam/default/lib/ocaml/compiler-libs/ocamlcommon.cma: loaded\n",
      "/Users/lucca/.opam/default/lib/seq: added to search path\n",
      "/Users/lucca/.opam/default/lib/yojson: added to search path\n",
      "/Users/lucca/.opam/default/lib/yojson/yojson.cma: loaded\n",
      "/Users/lucca/.opam/default/lib/ppx_yojson_conv_lib: added to search path\n",
      "/Users/lucca/.opam/default/lib/ppx_yojson_conv_lib/ppx_yojson_conv_lib.cma: loaded\n",
      "/Users/lucca/.opam/default/lib/ocaml/unix.cma: loaded\n",
      "/Users/lucca/.opam/default/lib/bytes: added to search path\n",
      "/Users/lucca/.opam/default/lib/uuidm: added to search path\n",
      "/Users/lucca/.opam/default/lib/uuidm/uuidm.cma: loaded\n",
      "/Users/lucca/.opam/default/lib/jupyter: added to search path\n",
      "/Users/lucca/.opam/default/lib/jupyter/jupyter.cma: loaded\n",
      "/Users/lucca/.opam/default/lib/result: added to search path\n",
      "/Users/lucca/.opam/default/lib/result/result.cma: loaded\n",
      "/Users/lucca/.opam/default/lib/ppx_deriving/runtime: added to search path\n",
      "/Users/lucca/.opam/default/lib/ppx_deriving/runtime/ppx_deriving_runtime.cma: loaded\n",
      "/Users/lucca/.opam/default/lib/jupyter/notebook: added to search path\n",
      "/Users/lucca/.opam/default/lib/jupyter/notebook/jupyter_notebook.cma: loaded\n"
     ]
    }
   ],
   "source": [
    "#require \"jupyter.notebook\" ;;\n",
    "open Jupyter_notebook ;;"
   ]
  },
  {
   "cell_type": "code",
   "execution_count": 3,
   "id": "7a940ccc",
   "metadata": {},
   "outputs": [
    {
     "name": "stdout",
     "output_type": "stream",
     "text": [
      "83 states, 5367 transitions, table size 21966 bytes\n"
     ]
    },
    {
     "data": {
      "text/plain": [
       "- : Jupyter_notebook.Process.t =\n",
       "{Jupyter_notebook.Process.exit_status = Unix.WEXITED 0; stdout = None;\n",
       " stderr = None}\n"
      ]
     },
     "execution_count": 3,
     "metadata": {},
     "output_type": "execute_result"
    },
    {
     "data": {
      "text/plain": [
       "- : Jupyter_notebook.Process.t =\n",
       "{Jupyter_notebook.Process.exit_status = Unix.WEXITED 0; stdout = None;\n",
       " stderr = None}\n"
      ]
     },
     "execution_count": 3,
     "metadata": {},
     "output_type": "execute_result"
    },
    {
     "data": {
      "text/plain": [
       "val stream_to_list : Lexing.lexbuf -> Func.token list = <fun>\n"
      ]
     },
     "execution_count": 3,
     "metadata": {},
     "output_type": "execute_result"
    }
   ],
   "source": [
    "(* Run the lexer generator *)\n",
    "Process.sh \"ocamllex func.mll\";;\n",
    "\n",
    "(* Compile and load the file produced by the lexer *)\n",
    "Process.sh \"ocamlc -c func.ml\";;\n",
    "#load \"func.cmo\";;\n",
    "\n",
    "(* Convert the buffer into a list for further processing. *)\n",
    "let rec stream_to_list buffer = \n",
    "    match Func.token buffer with \n",
    "    | EOF -> []\n",
    "    | x -> x :: stream_to_list buffer"
   ]
  },
  {
   "cell_type": "code",
   "execution_count": 4,
   "id": "0f9437fb",
   "metadata": {},
   "outputs": [
    {
     "data": {
      "text/plain": [
       "val p_basic : string =\n",
       "  \"\\nmethod main() vars inp, res\\nbegin\\nread inp;\\nres:=0;\\nwhile less(0,inp)\\nbegin\\nres := plus(res,inp);\\ninp := minus(inp,1);\\nendwhile;\\nwrite res;\\nendmethod;\\n\"\n"
      ]
     },
     "execution_count": 4,
     "metadata": {},
     "output_type": "execute_result"
    },
    {
     "data": {
      "text/plain": [
       "val res : Func.token list =\n",
       "  [METHOD; ID \"main\"; LBRA; RBRA; VARS; ID \"inp\"; COMMA; ID \"res\"; BEGIN;\n",
       "   READ; ID \"inp\"; SEMI; ID \"res\"; ASSIGN; INT 0; SEMI; WHILE; LESS; LBRA;\n",
       "   INT 0; COMMA; ID \"inp\"; RBRA; BEGIN; ID \"res\"; ASSIGN; ID \"plus\"; LBRA;\n",
       "   ID \"res\"; COMMA; ID \"inp\"; RBRA; SEMI; ID \"inp\"; ASSIGN; ID \"minus\"; LBRA;\n",
       "   ID \"inp\"; COMMA; INT 1; RBRA; SEMI; ENDWHILE; SEMI; WRITE; ID \"res\"; SEMI;\n",
       "   ENDMETHOD; SEMI]\n"
      ]
     },
     "execution_count": 4,
     "metadata": {},
     "output_type": "execute_result"
    }
   ],
   "source": [
    "(*\n",
    "You can test your lexer here. \n",
    "You will want to test your lexer with more code snippets!\n",
    "*)\n",
    "\n",
    "let p_basic = \n",
    "\"\n",
    "method main() vars inp, res\n",
    "begin\n",
    "read inp;\n",
    "res:=0;\n",
    "while less(0,inp)\n",
    "begin\n",
    "res := plus(res,inp);\n",
    "inp := minus(inp,1);\n",
    "endwhile;\n",
    "write res;\n",
    "endmethod;\n",
    "\";;\n",
    "\n",
    "open Func\n",
    "\n",
    "let res = stream_to_list (Lexing.from_string p_basic)"
   ]
  },
  {
   "cell_type": "code",
   "execution_count": null,
   "id": "fd789ac7",
   "metadata": {},
   "outputs": [],
   "source": []
  },
  {
   "cell_type": "code",
   "execution_count": null,
   "id": "8585e751",
   "metadata": {},
   "outputs": [],
   "source": []
  }
 ],
 "metadata": {
  "kernelspec": {
   "display_name": "OCaml default",
   "language": "OCaml",
   "name": "ocaml-jupyter"
  },
  "language_info": {
   "codemirror_mode": "text/x-ocaml",
   "file_extension": ".ml",
   "mimetype": "text/x-ocaml",
   "name": "OCaml",
   "nbconverter_exporter": null,
   "pygments_lexer": "OCaml",
   "version": "4.14.1"
  }
 },
 "nbformat": 4,
 "nbformat_minor": 5
}
